{
  "cells": [
    {
      "cell_type": "code",
      "execution_count": 1,
      "metadata": {
        "colab": {
          "base_uri": "https://localhost:8080/"
        },
        "id": "rndeaDih_jeI",
        "outputId": "e7744a76-25b5-42b1-9db3-eb6bdd2b1326"
      },
      "outputs": [
        {
          "output_type": "stream",
          "name": "stdout",
          "text": [
            "Collecting scikit-optimize\n",
            "  Downloading scikit_optimize-0.10.2-py2.py3-none-any.whl.metadata (9.7 kB)\n",
            "Requirement already satisfied: joblib>=0.11 in /usr/local/lib/python3.11/dist-packages (from scikit-optimize) (1.5.1)\n",
            "Collecting pyaml>=16.9 (from scikit-optimize)\n",
            "  Downloading pyaml-25.5.0-py3-none-any.whl.metadata (12 kB)\n",
            "Requirement already satisfied: numpy>=1.20.3 in /usr/local/lib/python3.11/dist-packages (from scikit-optimize) (2.0.2)\n",
            "Requirement already satisfied: scipy>=1.1.0 in /usr/local/lib/python3.11/dist-packages (from scikit-optimize) (1.15.3)\n",
            "Requirement already satisfied: scikit-learn>=1.0.0 in /usr/local/lib/python3.11/dist-packages (from scikit-optimize) (1.6.1)\n",
            "Requirement already satisfied: packaging>=21.3 in /usr/local/lib/python3.11/dist-packages (from scikit-optimize) (24.2)\n",
            "Requirement already satisfied: PyYAML in /usr/local/lib/python3.11/dist-packages (from pyaml>=16.9->scikit-optimize) (6.0.2)\n",
            "Requirement already satisfied: threadpoolctl>=3.1.0 in /usr/local/lib/python3.11/dist-packages (from scikit-learn>=1.0.0->scikit-optimize) (3.6.0)\n",
            "Downloading scikit_optimize-0.10.2-py2.py3-none-any.whl (107 kB)\n",
            "\u001b[2K   \u001b[90m━━━━━━━━━━━━━━━━━━━━━━━━━━━━━━━━━━━━━━━━\u001b[0m \u001b[32m107.8/107.8 kB\u001b[0m \u001b[31m3.2 MB/s\u001b[0m eta \u001b[36m0:00:00\u001b[0m\n",
            "\u001b[?25hDownloading pyaml-25.5.0-py3-none-any.whl (26 kB)\n",
            "Installing collected packages: pyaml, scikit-optimize\n",
            "Successfully installed pyaml-25.5.0 scikit-optimize-0.10.2\n",
            "Collecting optuna\n",
            "  Downloading optuna-4.4.0-py3-none-any.whl.metadata (17 kB)\n",
            "Collecting alembic>=1.5.0 (from optuna)\n",
            "  Downloading alembic-1.16.2-py3-none-any.whl.metadata (7.3 kB)\n",
            "Collecting colorlog (from optuna)\n",
            "  Downloading colorlog-6.9.0-py3-none-any.whl.metadata (10 kB)\n",
            "Requirement already satisfied: numpy in /usr/local/lib/python3.11/dist-packages (from optuna) (2.0.2)\n",
            "Requirement already satisfied: packaging>=20.0 in /usr/local/lib/python3.11/dist-packages (from optuna) (24.2)\n",
            "Requirement already satisfied: sqlalchemy>=1.4.2 in /usr/local/lib/python3.11/dist-packages (from optuna) (2.0.41)\n",
            "Requirement already satisfied: tqdm in /usr/local/lib/python3.11/dist-packages (from optuna) (4.67.1)\n",
            "Requirement already satisfied: PyYAML in /usr/local/lib/python3.11/dist-packages (from optuna) (6.0.2)\n",
            "Requirement already satisfied: Mako in /usr/lib/python3/dist-packages (from alembic>=1.5.0->optuna) (1.1.3)\n",
            "Requirement already satisfied: typing-extensions>=4.12 in /usr/local/lib/python3.11/dist-packages (from alembic>=1.5.0->optuna) (4.14.0)\n",
            "Requirement already satisfied: greenlet>=1 in /usr/local/lib/python3.11/dist-packages (from sqlalchemy>=1.4.2->optuna) (3.2.3)\n",
            "Downloading optuna-4.4.0-py3-none-any.whl (395 kB)\n",
            "\u001b[2K   \u001b[90m━━━━━━━━━━━━━━━━━━━━━━━━━━━━━━━━━━━━━━━━\u001b[0m \u001b[32m395.9/395.9 kB\u001b[0m \u001b[31m9.2 MB/s\u001b[0m eta \u001b[36m0:00:00\u001b[0m\n",
            "\u001b[?25hDownloading alembic-1.16.2-py3-none-any.whl (242 kB)\n",
            "\u001b[2K   \u001b[90m━━━━━━━━━━━━━━━━━━━━━━━━━━━━━━━━━━━━━━━━\u001b[0m \u001b[32m242.7/242.7 kB\u001b[0m \u001b[31m16.5 MB/s\u001b[0m eta \u001b[36m0:00:00\u001b[0m\n",
            "\u001b[?25hDownloading colorlog-6.9.0-py3-none-any.whl (11 kB)\n",
            "Installing collected packages: colorlog, alembic, optuna\n",
            "Successfully installed alembic-1.16.2 colorlog-6.9.0 optuna-4.4.0\n"
          ]
        }
      ],
      "source": [
        "!pip install scikit-optimize\n",
        "!pip install optuna"
      ]
    },
    {
      "cell_type": "markdown",
      "metadata": {
        "id": "BYr4n5rnV9J1"
      },
      "source": [
        "Setting up all the imports for the Bayesian Optimization"
      ]
    },
    {
      "cell_type": "code",
      "execution_count": 31,
      "metadata": {
        "id": "LjQBxatAa7zP"
      },
      "outputs": [],
      "source": [
        "import os, zipfile, json, time\n",
        "import pandas as pd, numpy as np\n",
        "from sklearn.model_selection import train_test_split, learning_curve\n",
        "from sklearn.preprocessing import StandardScaler\n",
        "from sklearn.feature_extraction.text import TfidfVectorizer\n",
        "from scipy.special import logit, expit\n",
        "from scipy.sparse import hstack\n",
        "from xgboost import XGBRegressor\n",
        "from skopt import BayesSearchCV\n",
        "from skopt.space import Integer, Real\n",
        "from skopt.callbacks import DeadlineStopper\n",
        "from sklearn.metrics import (\n",
        "    mean_squared_error, mean_absolute_error, r2_score\n",
        ")\n",
        "from sklearn.pipeline import Pipeline\n",
        "from sklearn.calibration import calibration_curve\n",
        "import matplotlib.pyplot as plt\n",
        "import joblib"
      ]
    },
    {
      "cell_type": "markdown",
      "metadata": {
        "id": "xppICUilVtcn"
      },
      "source": [
        "Configuring the constants - setting the right dataset files, timeout and seed."
      ]
    },
    {
      "cell_type": "code",
      "execution_count": 53,
      "metadata": {
        "id": "gD4fhjLbVmKT"
      },
      "outputs": [],
      "source": [
        "ZIP20_MITRE = \"CVES_2020.zip\"\n",
        "ZIP20_NVD   = \"nvdcve-1.1-2020.zip\"\n",
        "ZIP21_MITRE = \"CVES_2021.zip\"\n",
        "ZIP21_NVD   = \"nvdcve-1.1-2021.zip\"\n",
        "ZIP22_MITRE = \"CVES_2022.zip\"\n",
        "ZIP22_NVD   = \"nvdcve-1.1-2022.zip\"\n",
        "ZIP23_MITRE = \"CVES_2023.zip\"\n",
        "ZIP23_NVD   = \"nvdcve-1.1-2023.zip\"\n",
        "ZIP24_MITRE = \"CVES_2024.zip\"\n",
        "ZIP24_NVD   = \"nvdcve-1.1-2024.zip\"\n",
        "\n",
        "EPSS_PATH = \"epss_scores-2025-05-04.csv.gz\"\n",
        "SNAP_DATE = pd.Timestamp(\"2023-12-31\", tz=\"UTC\")\n",
        "SEED      = 45\n",
        "TIMEOUT   = 3600         # seconds for bayes search\n",
        "WORST_FRAC= 0.05         # top 5% highest‐EPSS CVEs\n",
        "\n",
        "# ensure all required files are present\n",
        "for p in (ZIP20_MITRE, ZIP20_NVD, ZIP21_MITRE, ZIP21_NVD, ZIP22_MITRE, ZIP22_NVD,\n",
        "          ZIP23_MITRE, ZIP23_NVD, ZIP24_MITRE, ZIP24_NVD, EPSS_PATH):\n",
        "    if not os.path.isfile(p):\n",
        "        raise FileNotFoundError(f\"Missing file: {p}\")\n",
        "\n",
        "global_start = time.perf_counter()"
      ]
    },
    {
      "cell_type": "markdown",
      "metadata": {
        "id": "mxO4rtV6WVRz"
      },
      "source": [
        "Setting up the EPSS"
      ]
    },
    {
      "cell_type": "code",
      "execution_count": 54,
      "metadata": {
        "colab": {
          "base_uri": "https://localhost:8080/"
        },
        "id": "UClaMmODWTzq",
        "outputId": "448cb29c-eebe-4b39-8814-c6f21707e6a4"
      },
      "outputs": [
        {
          "output_type": "stream",
          "name": "stdout",
          "text": [
            "[1] EPSS loaded (277382 rows) in 0.3s\n"
          ]
        }
      ],
      "source": [
        "t0 = time.perf_counter()\n",
        "epss_all = pd.read_csv(\n",
        "    EPSS_PATH,\n",
        "    compression=\"gzip\",\n",
        "    skiprows=2,\n",
        "    header=None,\n",
        "    names=[\"cve\",\"epss\",\"percentile\"]\n",
        ")[[\"cve\",\"epss\"]]\n",
        "t1 = time.perf_counter()\n",
        "print(f\"[1] EPSS loaded ({len(epss_all)} rows) in {t1-t0:.1f}s\")"
      ]
    },
    {
      "cell_type": "markdown",
      "metadata": {
        "id": "4fhTj5cjWscP"
      },
      "source": [
        "Helper function for loading the CVES and joining the EPSS scores"
      ]
    },
    {
      "cell_type": "code",
      "execution_count": 55,
      "metadata": {
        "id": "g6mFL_StWq3n"
      },
      "outputs": [],
      "source": [
        "def load_cves(mitre_zip_path, nvd_zip_path, epss_df):\n",
        "    recs = []\n",
        "\n",
        "    # Step 1: List MITRE ZIP contents (debug)\n",
        "    with zipfile.ZipFile(mitre_zip_path) as mitre_zip:\n",
        "        names = mitre_zip.namelist()\n",
        "        print(f\"[DEBUG] ZIP content in {mitre_zip_path} — total files: {len(names)}\")\n",
        "        for fn in names[:20]:\n",
        "            print(f\" - {fn}\")\n",
        "\n",
        "    # Step 2: Load NVD JSON from ZIP\n",
        "    with zipfile.ZipFile(nvd_zip_path) as nvd_zip:\n",
        "        with nvd_zip.open(nvd_zip.namelist()[0]) as f:\n",
        "            nvd_data = json.load(f)\n",
        "            nvd_lookup = {\n",
        "                item[\"cve\"][\"CVE_data_meta\"][\"ID\"]: item\n",
        "                for item in nvd_data[\"CVE_Items\"]\n",
        "            }\n",
        "\n",
        "    # Step 3: Iterate over MITRE JSON files inside the ZIP\n",
        "    with zipfile.ZipFile(mitre_zip_path) as mitre_zip:\n",
        "        for fn in mitre_zip.namelist():\n",
        "            # Skip non-json and __MACOSX files\n",
        "            if not fn.endswith(\".json\") or \"__MACOSX\" in fn:\n",
        "                continue\n",
        "\n",
        "            try:\n",
        "                r = json.load(mitre_zip.open(fn))\n",
        "                m = r.get(\"cveMetadata\", {})\n",
        "                pub = m.get(\"datePublished\", \"\")\n",
        "                if not pub:\n",
        "                    continue\n",
        "\n",
        "                dt = pd.to_datetime(pub, utc=True)\n",
        "                cid = m.get(\"cveId\", \"\")\n",
        "                if not cid:\n",
        "                    print(f\"[WARN] No CVE ID in {fn}\")\n",
        "                    continue\n",
        "\n",
        "                cna = r.get(\"containers\", {}).get(\"cna\", {})\n",
        "                descs = cna.get(\"descriptions\", [])\n",
        "                desc = descs[0][\"value\"] if descs else \"\"\n",
        "                refs = cna.get(\"references\", [])\n",
        "                ptypes = cna.get(\"problemTypes\", [])\n",
        "\n",
        "                # Add NVD info if available\n",
        "                nvd = nvd_lookup.get(cid, {})\n",
        "                impact = nvd.get(\"impact\", {})\n",
        "                cvss_v3 = impact.get(\"baseMetricV3\", {}).get(\"cvssV3\", {})\n",
        "                score = cvss_v3.get(\"baseScore\", None)\n",
        "                severity = cvss_v3.get(\"baseSeverity\", None)\n",
        "\n",
        "                recs.append({\n",
        "                    \"cve\": cid,\n",
        "                    \"pub_dt\": dt,\n",
        "                    \"year\": dt.year,\n",
        "                    \"desc\": desc,\n",
        "                    \"desc_length\": len(desc),\n",
        "                    \"ref_count\": len(refs),\n",
        "                    \"cwe_count\": sum(len(pt.get(\"descriptions\", [])) for pt in ptypes),\n",
        "                    \"cvss_score\": score,\n",
        "                    \"cvss_severity\": severity,\n",
        "                })\n",
        "\n",
        "            except Exception as e:\n",
        "                print(f\"[ERROR] Failed to parse {fn}: {e}\")\n",
        "\n",
        "    print(f\"[DEBUG] Loaded {len(recs)} CVEs from {mitre_zip_path}\")\n",
        "    df = pd.DataFrame(recs)\n",
        "\n",
        "    if df.empty:\n",
        "        print(\"[WARN] No CVEs collected — returning empty DataFrame\")\n",
        "        return pd.DataFrame()\n",
        "\n",
        "    df_merged = df.merge(epss_df, on=\"cve\", how=\"inner\")\n",
        "    print(f\"[DEBUG] After EPSs merge: {len(df_merged)} records remain\")\n",
        "    return df_merged"
      ]
    },
    {
      "cell_type": "markdown",
      "metadata": {
        "id": "iq7_fjV9XEEo"
      },
      "source": [
        "Load 2021, 2022, 2023 → downsample 15k/yr → 45k → 80/20 train/val"
      ]
    },
    {
      "cell_type": "code",
      "execution_count": 56,
      "metadata": {
        "colab": {
          "base_uri": "https://localhost:8080/"
        },
        "id": "HnfmJpbAW76p",
        "outputId": "ee47f52b-a19d-4c11-b9ac-43451c26a408"
      },
      "outputs": [
        {
          "output_type": "stream",
          "name": "stdout",
          "text": [
            "[DEBUG] ZIP content in CVES_2020.zip — total files: 20634\n",
            " - 2020/\n",
            " - 2020/0xxx/\n",
            " - 2020/0xxx/CVE-2020-0001.json\n",
            " - 2020/0xxx/CVE-2020-0002.json\n",
            " - 2020/0xxx/CVE-2020-0003.json\n",
            " - 2020/0xxx/CVE-2020-0004.json\n",
            " - 2020/0xxx/CVE-2020-0005.json\n",
            " - 2020/0xxx/CVE-2020-0006.json\n",
            " - 2020/0xxx/CVE-2020-0007.json\n",
            " - 2020/0xxx/CVE-2020-0008.json\n",
            " - 2020/0xxx/CVE-2020-0009.json\n",
            " - 2020/0xxx/CVE-2020-0010.json\n",
            " - 2020/0xxx/CVE-2020-0011.json\n",
            " - 2020/0xxx/CVE-2020-0012.json\n",
            " - 2020/0xxx/CVE-2020-0014.json\n",
            " - 2020/0xxx/CVE-2020-0015.json\n",
            " - 2020/0xxx/CVE-2020-0016.json\n",
            " - 2020/0xxx/CVE-2020-0017.json\n",
            " - 2020/0xxx/CVE-2020-0018.json\n",
            " - 2020/0xxx/CVE-2020-0019.json\n",
            "[DEBUG] Loaded 20231 CVEs from CVES_2020.zip\n",
            "[DEBUG] After EPSs merge: 18969 records remain\n",
            "[DEBUG] ZIP content in CVES_2021.zip — total files: 19596\n",
            " - CVES_2021/\n",
            " - CVES_2021/2021/\n",
            " - CVES_2021/2021/0xxx/\n",
            " - CVES_2021/2021/0xxx/CVE-2021-0001.json\n",
            " - CVES_2021/2021/0xxx/CVE-2021-0002.json\n",
            " - CVES_2021/2021/0xxx/CVE-2021-0003.json\n",
            " - CVES_2021/2021/0xxx/CVE-2021-0004.json\n",
            " - CVES_2021/2021/0xxx/CVE-2021-0005.json\n",
            " - CVES_2021/2021/0xxx/CVE-2021-0006.json\n",
            " - CVES_2021/2021/0xxx/CVE-2021-0007.json\n",
            " - CVES_2021/2021/0xxx/CVE-2021-0008.json\n",
            " - CVES_2021/2021/0xxx/CVE-2021-0009.json\n",
            " - CVES_2021/2021/0xxx/CVE-2021-0010.json\n",
            " - CVES_2021/2021/0xxx/CVE-2021-0011.json\n",
            " - CVES_2021/2021/0xxx/CVE-2021-0012.json\n",
            " - CVES_2021/2021/0xxx/CVE-2021-0013.json\n",
            " - CVES_2021/2021/0xxx/CVE-2021-0014.json\n",
            " - CVES_2021/2021/0xxx/CVE-2021-0015.json\n",
            " - CVES_2021/2021/0xxx/CVE-2021-0016.json\n",
            " - CVES_2021/2021/0xxx/CVE-2021-0017.json\n",
            "[DEBUG] Loaded 19215 CVEs from CVES_2021.zip\n",
            "[DEBUG] After EPSs merge: 18848 records remain\n",
            "[DEBUG] ZIP content in CVES_2022.zip — total files: 26445\n",
            " - 2022/\n",
            " - 2022/0xxx/\n",
            " - 2022/0xxx/CVE-2022-0001.json\n",
            " - 2022/0xxx/CVE-2022-0002.json\n",
            " - 2022/0xxx/CVE-2022-0003.json\n",
            " - 2022/0xxx/CVE-2022-0004.json\n",
            " - 2022/0xxx/CVE-2022-0005.json\n",
            " - 2022/0xxx/CVE-2022-0010.json\n",
            " - 2022/0xxx/CVE-2022-0011.json\n",
            " - 2022/0xxx/CVE-2022-0012.json\n",
            " - 2022/0xxx/CVE-2022-0013.json\n",
            " - 2022/0xxx/CVE-2022-0014.json\n",
            " - 2022/0xxx/CVE-2022-0015.json\n",
            " - 2022/0xxx/CVE-2022-0016.json\n",
            " - 2022/0xxx/CVE-2022-0017.json\n",
            " - 2022/0xxx/CVE-2022-0018.json\n",
            " - 2022/0xxx/CVE-2022-0019.json\n",
            " - 2022/0xxx/CVE-2022-0020.json\n",
            " - 2022/0xxx/CVE-2022-0021.json\n",
            " - 2022/0xxx/CVE-2022-0022.json\n",
            "[DEBUG] Loaded 25613 CVEs from CVES_2022.zip\n",
            "[DEBUG] After EPSs merge: 25375 records remain\n",
            "[DEBUG] ZIP content in CVES_2023.zip — total files: 29779\n",
            " - 2023/\n",
            " - 2023/0xxx/\n",
            " - 2023/0xxx/CVE-2023-0001.json\n",
            " - 2023/0xxx/CVE-2023-0002.json\n",
            " - 2023/0xxx/CVE-2023-0003.json\n",
            " - 2023/0xxx/CVE-2023-0004.json\n",
            " - 2023/0xxx/CVE-2023-0005.json\n",
            " - 2023/0xxx/CVE-2023-0006.json\n",
            " - 2023/0xxx/CVE-2023-0007.json\n",
            " - 2023/0xxx/CVE-2023-0008.json\n",
            " - 2023/0xxx/CVE-2023-0009.json\n",
            " - 2023/0xxx/CVE-2023-0010.json\n",
            " - 2023/0xxx/CVE-2023-0011.json\n",
            " - 2023/0xxx/CVE-2023-0012.json\n",
            " - 2023/0xxx/CVE-2023-0013.json\n",
            " - 2023/0xxx/CVE-2023-0014.json\n",
            " - 2023/0xxx/CVE-2023-0015.json\n",
            " - 2023/0xxx/CVE-2023-0016.json\n",
            " - 2023/0xxx/CVE-2023-0017.json\n",
            " - 2023/0xxx/CVE-2023-0018.json\n",
            "[DEBUG] Loaded 29358 CVEs from CVES_2023.zip\n",
            "[DEBUG] After EPSs merge: 29134 records remain\n",
            "[2] 21–23 split ▶ train=48000, val=12000 in 105.8s\n"
          ]
        }
      ],
      "source": [
        "t0 = time.perf_counter()\n",
        "# load each year\n",
        "df20 = load_cves(ZIP20_MITRE, ZIP20_NVD, epss_all)\n",
        "df21 = load_cves(ZIP21_MITRE, ZIP21_NVD, epss_all)\n",
        "df22 = load_cves(ZIP22_MITRE, ZIP22_NVD, epss_all)\n",
        "df23 = load_cves(ZIP23_MITRE, ZIP23_NVD, epss_all)\n",
        "\n",
        "# sample 15k from each year\n",
        "sample20 = df20.sample(15000, random_state=SEED)\n",
        "sample21 = df21.sample(15000, random_state=SEED)\n",
        "sample22 = df22.sample(15000, random_state=SEED)\n",
        "sample23 = df23.sample(15000, random_state=SEED)\n",
        "\n",
        "# concatenate and split\n",
        "df_trainval = pd.concat([sample20, sample21, sample22, sample23], ignore_index=True)\n",
        "df_train, df_val = train_test_split(\n",
        "    df_trainval, test_size=0.20, random_state=SEED\n",
        ")\n",
        "t1 = time.perf_counter()\n",
        "print(f\"[2] 21–23 split ▶ train={len(df_train)}, val={len(df_val)} in {t1-t0:.1f}s\")"
      ]
    },
    {
      "cell_type": "markdown",
      "metadata": {
        "id": "ogSEJylSXa-z"
      },
      "source": [
        "Load 2024 → sample exactly 6k (20% of 30k) for test"
      ]
    },
    {
      "cell_type": "code",
      "execution_count": 58,
      "metadata": {
        "colab": {
          "base_uri": "https://localhost:8080/"
        },
        "id": "XvgET1kOW84L",
        "outputId": "c1d7ab7e-cd7c-4353-e8da-ac41b65cef12"
      },
      "outputs": [
        {
          "output_type": "stream",
          "name": "stdout",
          "text": [
            "[DEBUG] ZIP content in CVES_2024.zip — total files: 37796\n",
            " - CVES_2024/\n",
            " - CVES_2024/2024/\n",
            " - CVES_2024/2024/0xxx/\n",
            " - CVES_2024/2024/0xxx/CVE-2024-0001.json\n",
            " - CVES_2024/2024/0xxx/CVE-2024-0002.json\n",
            " - CVES_2024/2024/0xxx/CVE-2024-0003.json\n",
            " - CVES_2024/2024/0xxx/CVE-2024-0004.json\n",
            " - CVES_2024/2024/0xxx/CVE-2024-0005.json\n",
            " - CVES_2024/2024/0xxx/CVE-2024-0006.json\n",
            " - CVES_2024/2024/0xxx/CVE-2024-0007.json\n",
            " - CVES_2024/2024/0xxx/CVE-2024-0008.json\n",
            " - CVES_2024/2024/0xxx/CVE-2024-0009.json\n",
            " - CVES_2024/2024/0xxx/CVE-2024-0010.json\n",
            " - CVES_2024/2024/0xxx/CVE-2024-0011.json\n",
            " - CVES_2024/2024/0xxx/CVE-2024-0012.json\n",
            " - CVES_2024/2024/0xxx/CVE-2024-0014.json\n",
            " - CVES_2024/2024/0xxx/CVE-2024-0015.json\n",
            " - CVES_2024/2024/0xxx/CVE-2024-0016.json\n",
            " - CVES_2024/2024/0xxx/CVE-2024-0017.json\n",
            " - CVES_2024/2024/0xxx/CVE-2024-0018.json\n",
            "[DEBUG] Loaded 37351 CVEs from CVES_2024.zip\n",
            "[DEBUG] After EPSs merge: 37082 records remain\n",
            "[3] 2024 sample ▶ test=12000 in 41.5s\n"
          ]
        }
      ],
      "source": [
        "t0 = time.perf_counter()\n",
        "df24 = load_cves(ZIP24_MITRE, ZIP24_NVD, epss_all)\n",
        "n_test = int(len(df_trainval) * 0.20)\n",
        "df_test = df24.sample(n=n_test, random_state=SEED)\n",
        "t1 = time.perf_counter()\n",
        "print(f\"[3] 2024 sample ▶ test={len(df_test)} in {t1-t0:.1f}s\")\n"
      ]
    },
    {
      "cell_type": "markdown",
      "metadata": {
        "id": "EpfSaLlLXpn2"
      },
      "source": [
        "Feature Engineering"
      ]
    },
    {
      "cell_type": "code",
      "execution_count": 59,
      "metadata": {
        "colab": {
          "base_uri": "https://localhost:8080/"
        },
        "id": "fVs1B7GgXr9H",
        "outputId": "72ac79b9-1c63-46a9-9744-3faeb1743abf"
      },
      "outputs": [
        {
          "output_type": "stream",
          "name": "stdout",
          "text": [
            "[4] Featurization + scaling in 4.9s\n"
          ]
        }
      ],
      "source": [
        "t0 = time.perf_counter()\n",
        "for d in (df_train, df_val, df_test):\n",
        "    d[\"days_since\"] = (SNAP_DATE - d[\"pub_dt\"]).dt.days\n",
        "\n",
        "tfidf = TfidfVectorizer(max_features=100, stop_words=\"english\")\n",
        "tfidf.fit(df_train[\"desc\"])\n",
        "joblib.dump(tfidf, \"tfidf_reg_bayes_tamed_timed.joblib\")\n",
        "\n",
        "num_cols = [\"year\",\"desc_length\",\"ref_count\",\"cwe_count\",\"days_since\"]\n",
        "def build_X_y(df):\n",
        "    Xn = df[num_cols].values\n",
        "    Xt = tfidf.transform(df[\"desc\"])\n",
        "    X  = hstack([Xn, Xt])\n",
        "    y  = logit(df[\"epss\"].clip(1e-6, 1-1e-6))\n",
        "    return X, y\n",
        "\n",
        "X_tr, y_tr   = build_X_y(df_train)\n",
        "X_val, y_val = build_X_y(df_val)\n",
        "X_te, y_te   = build_X_y(df_test)\n",
        "\n",
        "scaler = StandardScaler(with_mean=False).fit(X_tr)\n",
        "X_tr_s = scaler.transform(X_tr)\n",
        "X_val_s= scaler.transform(X_val)\n",
        "X_te_s = scaler.transform(X_te)\n",
        "joblib.dump(scaler, \"scaler_reg_bayes_tamed_timed.joblib\")\n",
        "t1 = time.perf_counter()\n",
        "print(f\"[4] Featurization + scaling in {t1-t0:.1f}s\")"
      ]
    },
    {
      "cell_type": "markdown",
      "metadata": {
        "id": "756I-6iOXxqg"
      },
      "source": [
        "Bayesian Optimization with 1h timeout"
      ]
    },
    {
      "cell_type": "code",
      "execution_count": null,
      "metadata": {
        "colab": {
          "base_uri": "https://localhost:8080/"
        },
        "id": "YNuDHVChXxGp",
        "outputId": "71667aa6-f36b-4235-a721-28e30affb874"
      },
      "outputs": [
        {
          "output_type": "stream",
          "name": "stdout",
          "text": [
            "[5] Starting BayesSearchCV (timeout 1 h)...\n"
          ]
        }
      ],
      "source": [
        "search_spaces = {\n",
        "    \"max_depth\":         Integer(2, 6),              # Conservative tree depth\n",
        "    \"learning_rate\":     Real(0.1, 0.5, prior=\"uniform\"),  # Stable learning rate\n",
        "    \"gamma\":             Real(0, 5, prior=\"uniform\"),       # Min loss reduction\n",
        "    \"reg_lambda\":        Real(0, 5, prior=\"uniform\"),       # L2 regularization\n",
        "    \"reg_alpha\":         Real(0, 2, prior=\"uniform\"),       # L1 regularization\n",
        "    \"subsample\":         Real(0.7, 1.0, prior=\"uniform\"),   # Row sampling\n",
        "    \"colsample_bytree\":  Real(0.7, 1.0, prior=\"uniform\")    # Feature sampling\n",
        "}\n",
        "\n",
        "bayes = BayesSearchCV(\n",
        "    XGBRegressor(objective=\"reg:squarederror\", random_state=SEED),\n",
        "    search_spaces=search_spaces,\n",
        "    n_iter=50, cv=5,\n",
        "    scoring=\"neg_mean_squared_error\",\n",
        "    n_jobs=-1, random_state=SEED,\n",
        "    verbose=0, return_train_score=True\n",
        ")\n",
        "\n",
        "stopper = DeadlineStopper(total_time=TIMEOUT)\n",
        "\n",
        "print(\"[5] Starting BayesSearchCV (timeout 1 h)...\")\n",
        "t2 = time.perf_counter()\n",
        "bayes.fit(X_tr_s, y_tr, callback=[stopper])\n",
        "t3 = time.perf_counter()\n",
        "print(f\"[5] BayesSearchCV done in {t3-t2:.1f}s; best_params={bayes.best_params_}\")\n",
        "\n",
        "model = bayes.best_estimator_"
      ]
    },
    {
      "cell_type": "markdown",
      "metadata": {
        "id": "KXn0M6E6X-oq"
      },
      "source": [
        "Evaluate and write results"
      ]
    },
    {
      "cell_type": "code",
      "execution_count": 17,
      "metadata": {
        "colab": {
          "base_uri": "https://localhost:8080/"
        },
        "id": "blc0LLalX9x1",
        "outputId": "97d93785-25f5-4cd2-a619-29799d0fd2cc"
      },
      "outputs": [
        {
          "output_type": "stream",
          "name": "stdout",
          "text": [
            "\n",
            "[6] Overall performance:\n",
            "TRAIN → MSE=0.012480, RMSE=0.111715, MAE=0.023605, R²=0.178\n",
            "VAL   → MSE=0.012904, RMSE=0.113597, MAE=0.024260, R²=0.070\n",
            "TEST  → MSE=0.007501, RMSE=0.086610, MAE=0.014108, R²=0.021\n",
            "       Mean(actual−pred) = 0.011309\n",
            "\n",
            "Brier score: 0.076268\n",
            "Avg Precision (PR AUC): 0.369\n",
            "Spearman correlation: 0.453\n",
            "Precision@100: 0.160\n",
            "[7] Worst‐CVEs (top 5 %):\n",
            "[7] Worst‐CVEs (top 5 %):\n",
            "WORST → n=450, MSE=0.149036, RMSE=0.386051, MAE=0.244304, R²=-0.620\n",
            "       Precision@5% = 0.278, Recall@5% = 0.278, F1@5% = 0.278\n"
          ]
        }
      ],
      "source": [
        "with open(\"results.txt\",\"w\") as out:\n",
        "    out.write(f\"Best params: {bayes.best_params_}\\n\\n\")\n",
        "    def report(name, Xs, ys, df_=None):\n",
        "        y_log = model.predict(Xs)\n",
        "        y_pred= expit(y_log)\n",
        "        y_true= expit(ys)\n",
        "        mse   = mean_squared_error(y_true, y_pred)\n",
        "        rmse  = np.sqrt(mse)\n",
        "        mae   = mean_absolute_error(y_true, y_pred)\n",
        "        r2    = r2_score(y_true, y_pred)\n",
        "        out.write(f\"{name:5s} → MSE={mse:.6f}, RMSE={rmse:.6f}, \"\n",
        "                  f\"MAE={mae:.6f}, R²={r2:.3f}\\n\")\n",
        "        print(f\"{name:5s} → MSE={mse:.6f}, RMSE={rmse:.6f}, \"\n",
        "              f\"MAE={mae:.6f}, R²={r2:.3f}\")\n",
        "        if df_ is not None:\n",
        "            df_ = df_.copy()\n",
        "            df_[\"pred\"] = y_pred\n",
        "            df_[\"actual\"] = y_true\n",
        "            # mean difference actual - predicted\n",
        "            mean_diff = np.mean(df_[\"actual\"] - df_[\"pred\"])\n",
        "            out.write(f\"       Mean(actual−pred) = {mean_diff:.6f}\\n\")\n",
        "            print(f\"       Mean(actual−pred) = {mean_diff:.6f}\\n\")\n",
        "\n",
        "    out.write(\"—— Overall performance ——\\n\")\n",
        "    print(\"\\n[6] Overall performance:\")\n",
        "    report(\"TRAIN\", X_tr_s, y_tr)\n",
        "    report(\"VAL\",   X_val_s, y_val)\n",
        "    report(\"TEST\",  X_te_s, y_te,   df_test)\n",
        "\n",
        "    # Evaluate calibration, ranking, and top-K precision\n",
        "    y_true = expit(y_te)\n",
        "    y_pred = expit(model.predict(X_te_s))\n",
        "\n",
        "    # — Calibration curve\n",
        "    from sklearn.calibration import calibration_curve\n",
        "\n",
        "    def plot_calibration(y_true, y_pred, n_bins=10, threshold=0.01):\n",
        "        y_true_binary = (y_true >= threshold).astype(int)\n",
        "\n",
        "        prob_true, prob_pred = calibration_curve(\n",
        "            y_true_binary, y_pred, n_bins=n_bins, strategy='uniform'\n",
        "        )\n",
        "\n",
        "        plt.figure(figsize=(6, 6))\n",
        "        plt.plot(prob_pred, prob_true, marker='o', label=\"Model\")\n",
        "        plt.plot([0, 1], [0, 1], linestyle='--', color='gray', label=\"Perfect calibration\")\n",
        "        plt.xlabel(\"Mean predicted probability\")\n",
        "        plt.ylabel(\"Fraction of positives\")\n",
        "        plt.title(f\"Calibration Plot (threshold={threshold})\")\n",
        "        plt.legend()\n",
        "        plt.grid(True)\n",
        "        plt.tight_layout()\n",
        "        plt.savefig(\"calibration_plot.png\")\n",
        "        plt.close()\n",
        "\n",
        "    plot_calibration(y_true, y_pred)\n",
        "\n",
        "    # — Brier Score (probabilistic accuracy)\n",
        "    from sklearn.metrics import brier_score_loss\n",
        "\n",
        "    # Binarize y_true for probabilistic classification evaluation\n",
        "    threshold = 0.01  # or 0.01 or something lower, depending on your EPSS threshold\n",
        "    y_true_bin = (y_true >= threshold).astype(int)\n",
        "\n",
        "    brier = brier_score_loss(y_true_bin, y_pred)\n",
        "\n",
        "    print(f\"Brier score: {brier:.6f}\")\n",
        "    with open(\"results.txt\", \"a\") as out:\n",
        "      out.write(f\"Brier score: {brier:.6f}\\n\")\n",
        "\n",
        "    from sklearn.metrics import average_precision_score\n",
        "\n",
        "    ap = average_precision_score(y_true_bin, y_pred)\n",
        "    print(f\"Avg Precision (PR AUC): {ap:.3f}\")\n",
        "    with open(\"results.txt\", \"a\") as out:\n",
        "        out.write(f\"Avg Precision (PR AUC): {ap:.3f}\\n\")\n",
        "\n",
        "\n",
        "    from scipy.stats import spearmanr\n",
        "\n",
        "    rho, _ = spearmanr(y_true, y_pred)\n",
        "    print(f\"Spearman correlation: {rho:.3f}\")\n",
        "    with open(\"results.txt\", \"a\") as out:\n",
        "        out.write(f\"Spearman correlation: {rho:.3f}\\n\")\n",
        "\n",
        "    def precision_at_k(y_true, y_pred, k=100):\n",
        "      top_k_true = set(np.argsort(y_true)[-k:])\n",
        "      top_k_pred = set(np.argsort(y_pred)[-k:])\n",
        "      return len(top_k_true & top_k_pred) / k\n",
        "\n",
        "    p_at_100 = precision_at_k(y_true, y_pred, k=100)\n",
        "    print(f\"Precision@100: {p_at_100:.3f}\")\n",
        "    with open(\"results.txt\", \"a\") as out:\n",
        "        out.write(f\"Precision@100: {p_at_100:.3f}\\n\")\n",
        "\n",
        "        # worst‐subset\n",
        "        out.write(\"\\n—— Worst‐CVEs (top 5 %) ——\\n\")\n",
        "        print(\"[7] Worst‐CVEs (top 5 %):\")\n",
        "        df_test2 = df_test.copy()\n",
        "        df_test2[\"pred\"]   = expit(model.predict(X_te_s))\n",
        "        df_test2[\"actual\"] = df_test2[\"epss\"]\n",
        "        worst_n = int(len(df_test2) * WORST_FRAC)\n",
        "\n",
        "        # Sort by true and predicted EPSS scores\n",
        "        true_top_idx = set(df_test2.nlargest(worst_n, \"actual\").index)\n",
        "        pred_top_idx = set(df_test2.nlargest(worst_n, \"pred\").index)\n",
        "\n",
        "        # Compute true/false positives\n",
        "        hits = true_top_idx & pred_top_idx\n",
        "        precision = len(hits) / worst_n\n",
        "        recall    = len(hits) / worst_n\n",
        "        f1 = 2 * precision * recall / (precision + recall + 1e-10)  # avoid zero-division\n",
        "\n",
        "        # Also compute regression errors on actual top-5% (as before)\n",
        "        worst = df_test2.loc[list(true_top_idx)]\n",
        "        y_t = worst[\"actual\"].values\n",
        "        y_p = worst[\"pred\"].values\n",
        "        mse_w  = mean_squared_error(y_t, y_p)\n",
        "        rmse_w = np.sqrt(mse_w)\n",
        "        mae_w  = mean_absolute_error(y_t, y_p)\n",
        "        r2_w   = r2_score(y_t, y_p)\n",
        "\n",
        "    # Log\n",
        "    with open(\"results.txt\", \"a\") as out:\n",
        "        out.write(\"\\n—— Worst‐CVEs (top 5 %) ——\\n\")\n",
        "        out.write(f\"WORST → n={worst_n}, MSE={mse_w:.6f}, RMSE={rmse_w:.6f}, \"\n",
        "                  f\"MAE={mae_w:.6f}, R²={r2_w:.3f}\\n\")\n",
        "        out.write(f\"       Precision@5% = {precision:.3f}, Recall@5% = {recall:.3f}, F1@5% = {f1:.3f}\\n\")\n",
        "\n",
        "    print(\"[7] Worst‐CVEs (top 5 %):\")\n",
        "    print(f\"WORST → n={worst_n}, MSE={mse_w:.6f}, RMSE={rmse_w:.6f}, \"\n",
        "          f\"MAE={mae_w:.6f}, R²={r2_w:.3f}\")\n",
        "    print(f\"       Precision@5% = {precision:.3f}, Recall@5% = {recall:.3f}, F1@5% = {f1:.3f}\")"
      ]
    },
    {
      "cell_type": "markdown",
      "metadata": {
        "id": "R9_v35lWYK6D"
      },
      "source": [
        "RMSE Learning curve"
      ]
    },
    {
      "cell_type": "code",
      "execution_count": null,
      "metadata": {
        "colab": {
          "base_uri": "https://localhost:8080/"
        },
        "id": "b62N8-OrYJzZ",
        "outputId": "753243d6-ede0-4e26-9de6-98aeeba5746a"
      },
      "outputs": [
        {
          "output_type": "stream",
          "name": "stdout",
          "text": [
            "[8] Done. Total runtime: 3614.7s\n"
          ]
        }
      ],
      "source": [
        "pipe = Pipeline([\n",
        "    (\"scaler\", StandardScaler(with_mean=False)),\n",
        "    (\"reg\",    model)\n",
        "])\n",
        "train_sizes, train_mse, val_mse = learning_curve(\n",
        "    pipe, X_tr_s, y_tr,\n",
        "    cv=5,\n",
        "    scoring=\"neg_mean_squared_error\",\n",
        "    train_sizes=np.linspace(0.1,1.0,10),\n",
        "    shuffle=True,\n",
        "    random_state=SEED,\n",
        "    n_jobs=-1\n",
        ")\n",
        "train_rmse = np.sqrt(-train_mse.mean(axis=1))\n",
        "val_rmse   = np.sqrt(-val_mse.mean(axis=1))\n",
        "\n",
        "plt.figure(figsize=(8,5))\n",
        "plt.plot(train_sizes, train_rmse, label=\"Train RMSE\")\n",
        "plt.plot(train_sizes, val_rmse,   label=\"Val RMSE\")\n",
        "plt.xlabel(\"Training set size\")\n",
        "plt.ylabel(\"RMSE\")\n",
        "plt.title(\"Learning Curve (Tamed Bayes)\")\n",
        "plt.legend()\n",
        "plt.tight_layout()\n",
        "plt.savefig(\"learning_curve.png\")\n",
        "plt.close()\n",
        "\n",
        "y_true = expit(y_te)\n",
        "y_pred = expit(model.predict(X_te_s))\n",
        "residuals = y_true - y_pred\n",
        "\n",
        "plt.figure(figsize=(8,5))\n",
        "plt.scatter(y_true, residuals, alpha=0.3, edgecolor=\"none\")\n",
        "plt.axhline(0, color=\"black\", linewidth=1)\n",
        "plt.xlabel(\"True EPSS\")\n",
        "plt.ylabel(\"Residual (true − pred)\")\n",
        "plt.title(\"Residuals on Test Set\")\n",
        "plt.tight_layout()\n",
        "plt.savefig(\"residuals.png\")\n",
        "plt.close()\n",
        "\n",
        "global_end = time.perf_counter()\n",
        "print(f\"[8] Done. Total runtime: {global_end-global_start:.1f}s\")"
      ]
    },
    {
      "cell_type": "markdown",
      "metadata": {
        "id": "8QFcDUpLWYaX"
      },
      "source": [
        "Run the following to plot the Learning Curve graph and the Residuals Graph"
      ]
    },
    {
      "cell_type": "code",
      "execution_count": null,
      "metadata": {
        "colab": {
          "base_uri": "https://localhost:8080/",
          "height": 871
        },
        "id": "jUtl42uvCbBK",
        "outputId": "76d42280-8e83-4770-db6d-e9b3476ba7ac"
      },
      "outputs": [
        {
          "output_type": "display_data",
          "data": {
            "text/plain": [
              "<Figure size 800x500 with 1 Axes>"
            ],
            "image/png": "[encoded data removed]"
          },
          "metadata": {}
        },
        {
          "output_type": "display_data",
          "data": {
            "text/plain": [
              "<Figure size 800x500 with 1 Axes>"
            ],
            "image/png": "[encoded data removed]"
          },
          "metadata": {}
        }
      ],
      "source": [
        "import matplotlib.pyplot as plt\n",
        "import matplotlib.image as mpimg\n",
        "\n",
        "# 1) Show learning curve\n",
        "lc = mpimg.imread(\"learning_curve.png\")\n",
        "plt.figure(figsize=(8,5))\n",
        "plt.imshow(lc)\n",
        "plt.axis(\"off\")\n",
        "plt.title(\"Learning Curve\")\n",
        "plt.show()\n",
        "\n",
        "# 2) Show residuals\n",
        "res = mpimg.imread(\"residuals.png\")\n",
        "plt.figure(figsize=(8,5))\n",
        "plt.imshow(res)\n",
        "plt.axis(\"off\")\n",
        "plt.title(\"Residuals on Test Set\")\n",
        "plt.show()\n",
        "\n",
        "from sklearn.metrics import precision_recall_curve\n",
        "import matplotlib.pyplot as plt\n",
        "\n",
        "precision, recall, _ = precision_recall_curve(y_true_bin, y_pred)\n",
        "\n",
        "plt.figure(figsize=(6, 6))\n",
        "plt.plot(recall, precision, label=f\"PR curve (AP = {ap:.3f})\")\n",
        "plt.xlabel(\"Recall\")\n",
        "plt.ylabel(\"Precision\")\n",
        "plt.title(\"Precision-Recall Curve\")\n",
        "plt.legend()\n",
        "plt.grid(True)\n",
        "plt.tight_layout()\n",
        "plt.savefig(\"precision_recall_curve.png\")\n",
        "plt.close()\n",
        "plt.show()\n"
      ]
    },
    {
      "cell_type": "markdown",
      "metadata": {
        "id": "CetKussf23se"
      },
      "source": [
        "Setup imports"
      ]
    },
    {
      "cell_type": "code",
      "execution_count": null,
      "metadata": {
        "id": "i1ZSsakW249A"
      },
      "outputs": [],
      "source": [
        "import os, zipfile, json, time\n",
        "import pandas as pd, numpy as np\n",
        "from sklearn.model_selection import train_test_split, learning_curve, ParameterGrid, cross_val_score\n",
        "from sklearn.preprocessing import StandardScaler\n",
        "from sklearn.feature_extraction.text import TfidfVectorizer\n",
        "from scipy.special import logit, expit\n",
        "from scipy.sparse import hstack\n",
        "from xgboost import XGBRegressor\n",
        "from sklearn.metrics import mean_squared_error, mean_absolute_error, r2_score\n",
        "from sklearn.pipeline import Pipeline\n",
        "import matplotlib.pyplot as plt\n",
        "import joblib"
      ]
    },
    {
      "cell_type": "markdown",
      "metadata": {
        "id": "YEVNxMj81kT8"
      },
      "source": [
        "Setup Constants"
      ]
    },
    {
      "cell_type": "code",
      "execution_count": null,
      "metadata": {
        "id": "sUC2c2WB1jnP"
      },
      "outputs": [],
      "source": [
        "ZIP21     = \"CVES_2021.zip\"\n",
        "ZIP23     = \"CVES_2022-2023.zip\"\n",
        "ZIP24     = \"CVES_2024.zip\"\n",
        "EPSS_PATH = \"epss_scores-2025-05-04.csv.gz\"\n",
        "SNAP_DATE = pd.Timestamp(\"2023-12-31\", tz=\"UTC\")\n",
        "SEED      = 42\n",
        "TIMEOUT   = 3600         # seconds for bayes search\n",
        "WORST_FRAC= 0.05         # top 5% highest‐EPSS CVEs\n",
        "\n",
        "# ensure all required files are present\n",
        "for p in (ZIP21, ZIP23, ZIP24, EPSS_PATH):\n",
        "    if not os.path.isfile(p):\n",
        "        raise FileNotFoundError(f\"Missing file: {p}\")\n",
        "\n",
        "global_start = time.perf_counter()"
      ]
    },
    {
      "cell_type": "markdown",
      "metadata": {
        "id": "UKZyzCf01qtc"
      },
      "source": [
        "Load EPSS table"
      ]
    },
    {
      "cell_type": "code",
      "execution_count": null,
      "metadata": {
        "colab": {
          "base_uri": "https://localhost:8080/"
        },
        "id": "_OXMk6pT1rgk",
        "outputId": "e305b968-ed88-43be-8fb3-300a78cfe56f"
      },
      "outputs": [
        {
          "output_type": "stream",
          "name": "stdout",
          "text": [
            "[1] EPSS loaded (277382 rows) in 0.2s\n"
          ]
        }
      ],
      "source": [
        "t0 = time.perf_counter()\n",
        "epss_all = pd.read_csv(\n",
        "    EPSS_PATH,\n",
        "    compression=\"gzip\",\n",
        "    skiprows=2,\n",
        "    header=None,\n",
        "    names=[\"cve\",\"epss\",\"percentile\"]\n",
        ")[[\"cve\",\"epss\"]]\n",
        "t1 = time.perf_counter()\n",
        "print(f\"[1] EPSS loaded ({len(epss_all)} rows) in {t1-t0:.1f}s\")"
      ]
    },
    {
      "cell_type": "markdown",
      "metadata": {
        "id": "R4pFSxvo1yfk"
      },
      "source": [
        "Helper to Load CVEs + setup EPSS"
      ]
    },
    {
      "cell_type": "code",
      "execution_count": null,
      "metadata": {
        "id": "CMr6BcU-1y5k"
      },
      "outputs": [],
      "source": [
        "def load_cves(zip_path):\n",
        "    recs = []\n",
        "    with zipfile.ZipFile(zip_path) as z:\n",
        "        for fn in z.namelist():\n",
        "            if not fn.endswith(\".json\"):\n",
        "                continue\n",
        "            r = json.load(z.open(fn))\n",
        "            m = r.get(\"cveMetadata\",{})\n",
        "            pub = m.get(\"datePublished\",\"\")\n",
        "            if not pub: continue\n",
        "            dt  = pd.to_datetime(pub, utc=True)\n",
        "            cid = m[\"cveId\"]\n",
        "            cna = r[\"containers\"][\"cna\"]\n",
        "            descs = cna.get(\"descriptions\",[])\n",
        "            desc  = descs[0][\"value\"] if descs else \"\"\n",
        "            refs  = cna.get(\"references\",[])\n",
        "            ptypes= cna.get(\"problemTypes\",[])\n",
        "            recs.append({\n",
        "                \"cve\": cid,\n",
        "                \"pub_dt\": dt,\n",
        "                \"year\": dt.year,\n",
        "                \"desc\": desc,\n",
        "                \"desc_length\": len(desc),\n",
        "                \"ref_count\":   len(refs),\n",
        "                \"cwe_count\":   sum(len(pt.get(\"descriptions\",[])) for pt in ptypes)\n",
        "            })\n",
        "    df = pd.DataFrame(recs)\n",
        "    return df.merge(epss_all, on=\"cve\", how=\"inner\")"
      ]
    },
    {
      "cell_type": "markdown",
      "metadata": {
        "id": "LwmZ3b9G18fU"
      },
      "source": [
        "Build 2021, 2022, 2023 → 45k → 80/20 train/val"
      ]
    },
    {
      "cell_type": "code",
      "execution_count": null,
      "metadata": {
        "colab": {
          "base_uri": "https://localhost:8080/"
        },
        "id": "D5vhVCMv18M_",
        "outputId": "21cb8bbe-5861-4d0f-a54f-83e1a8a34091"
      },
      "outputs": [
        {
          "output_type": "stream",
          "name": "stdout",
          "text": [
            "[2] 21–23 split ▶ train=36000, val=9000 in 38.6s\n"
          ]
        }
      ],
      "source": [
        "t0 = time.perf_counter()\n",
        "# load each year\n",
        "df21 = load_cves(ZIP21)\n",
        "df23 = load_cves(ZIP23)  # includes 2022 & 2023\n",
        "# sample 15k from each year\n",
        "sample21 = df21.sample(15000, random_state=SEED)\n",
        "sample22 = df23[df23.year == 2022].sample(15000, random_state=SEED)\n",
        "sample23 = df23[df23.year == 2023].sample(15000, random_state=SEED)\n",
        "# combine and split\n",
        "trainval = pd.concat([sample21, sample22, sample23], ignore_index=True)\n",
        "df_train, df_val = train_test_split(\n",
        "    trainval, test_size=0.20, random_state=SEED\n",
        ")\n",
        "t1 = time.perf_counter()\n",
        "print(f\"[2] 21–23 split ▶ train={len(df_train)}, val={len(df_val)} in {t1-t0:.1f}s\")"
      ]
    },
    {
      "cell_type": "markdown",
      "metadata": {
        "id": "L2FbX3Rc2I2u"
      },
      "source": [
        "Build 2024 → sample 9k test"
      ]
    },
    {
      "cell_type": "code",
      "execution_count": null,
      "metadata": {
        "colab": {
          "base_uri": "https://localhost:8080/"
        },
        "id": "4RUIgGtq2JZU",
        "outputId": "15e3e7b0-2cab-4ece-e01e-8efc9c745190"
      },
      "outputs": [
        {
          "output_type": "stream",
          "name": "stdout",
          "text": [
            "[3] 2024 sample ▶ test=9000 in 20.6s\n"
          ]
        }
      ],
      "source": [
        "t0 = time.perf_counter()\n",
        "df24   = load_cves(ZIP24)\n",
        "n_test = int(len(df_trainval) * 0.20)  # 20% of 45k = 9k\n",
        "# sample from 2024 only\n",
        "df_test = df24.sample(n=n_test, random_state=SEED)\n",
        "t1 = time.perf_counter()\n",
        "print(f\"[3] 2024 sample ▶ test={len(df_test)} in {t1-t0:.1f}s\")"
      ]
    },
    {
      "cell_type": "markdown",
      "metadata": {
        "id": "IpEEWqGv2Ml-"
      },
      "source": [
        "Feature Engineering"
      ]
    },
    {
      "cell_type": "code",
      "execution_count": null,
      "metadata": {
        "colab": {
          "base_uri": "https://localhost:8080/"
        },
        "id": "cyFMxhf-2RRY",
        "outputId": "3a1f1064-0872-47d6-de0a-bcf2cdfe784b"
      },
      "outputs": [
        {
          "output_type": "stream",
          "name": "stdout",
          "text": [
            "[5] Featurized + scaled in 2.5s\n"
          ]
        }
      ],
      "source": [
        "t0 = time.perf_counter()\n",
        "for df in (df_train, df_val, df_test):\n",
        "    df[\"days_since\"] = (SNAP_DATE - df[\"pub_dt\"]).dt.days\n",
        "\n",
        "tfidf = TfidfVectorizer(max_features=100, stop_words=\"english\")\n",
        "tfidf.fit(df_train[\"desc\"])\n",
        "joblib.dump(tfidf, \"tfidf_grid.pkl\")\n",
        "\n",
        "num_cols = [\"year\",\"desc_length\",\"ref_count\",\"cwe_count\",\"days_since\"]\n",
        "def build_X_y(df):\n",
        "    Xn = df[num_cols].values\n",
        "    Xt = tfidf.transform(df[\"desc\"])\n",
        "    X  = hstack([Xn, Xt])\n",
        "    y  = logit(df[\"epss\"].clip(1e-6, 1-1e-6))\n",
        "    return X, y\n",
        "\n",
        "X_tr, y_tr   = build_X_y(df_train)\n",
        "X_val, y_val = build_X_y(df_val)\n",
        "X_te, y_te   = build_X_y(df_test)\n",
        "\n",
        "scaler = StandardScaler(with_mean=False).fit(X_tr)\n",
        "X_tr_s = scaler.transform(X_tr)\n",
        "X_val_s= scaler.transform(X_val)\n",
        "X_te_s = scaler.transform(X_te)\n",
        "joblib.dump(scaler, \"scaler_grid.pkl\")\n",
        "t1 = time.perf_counter()\n",
        "print(f\"[5] Featurized + scaled in {t1-t0:.1f}s\")"
      ]
    },
    {
      "cell_type": "markdown",
      "metadata": {
        "id": "R8lKZP6-2Y4O"
      },
      "source": [
        "Manual Grid-Search with 1h timeout"
      ]
    },
    {
      "cell_type": "code",
      "execution_count": null,
      "metadata": {
        "colab": {
          "base_uri": "https://localhost:8080/",
          "height": 914
        },
        "id": "_p4Ja8ws2bNi",
        "outputId": "d7ce8748-788a-437f-912a-2bd82743743c"
      },
      "outputs": [
        {
          "output_type": "stream",
          "name": "stdout",
          "text": [
            "[6] Starting manual grid search with 1 h timeout…\n",
            "       1/  36  params={'learning_rate': 0.01, 'max_depth': 3}  → mean neg_MSE=-3.0760  (elapsed 0s)\n",
            "       2/  36  params={'learning_rate': 0.01, 'max_depth': 4}  → mean neg_MSE=-2.9705  (elapsed 6s)\n",
            "       3/  36  params={'learning_rate': 0.01, 'max_depth': 5}  → mean neg_MSE=-2.8769  (elapsed 12s)\n",
            "       4/  36  params={'learning_rate': 0.01, 'max_depth': 6}  → mean neg_MSE=-2.8014  (elapsed 25s)\n",
            "       5/  36  params={'learning_rate': 0.01, 'max_depth': 7}  → mean neg_MSE=-2.7360  (elapsed 45s)\n",
            "       6/  36  params={'learning_rate': 0.01, 'max_depth': 8}  → mean neg_MSE=-2.6891  (elapsed 78s)\n",
            "       7/  36  params={'learning_rate': 0.02, 'max_depth': 3}  → mean neg_MSE=-2.8339  (elapsed 129s)\n",
            "       8/  36  params={'learning_rate': 0.02, 'max_depth': 4}  → mean neg_MSE=-2.7108  (elapsed 133s)\n",
            "       9/  36  params={'learning_rate': 0.02, 'max_depth': 5}  → mean neg_MSE=-2.6120  (elapsed 140s)\n",
            "      10/  36  params={'learning_rate': 0.02, 'max_depth': 6}  → mean neg_MSE=-2.5339  (elapsed 151s)\n",
            "      11/  36  params={'learning_rate': 0.02, 'max_depth': 7}  → mean neg_MSE=-2.4719  (elapsed 170s)\n",
            "      12/  36  params={'learning_rate': 0.02, 'max_depth': 8}  → mean neg_MSE=-2.4328  (elapsed 201s)\n",
            "      13/  36  params={'learning_rate': 0.03, 'max_depth': 3}  → mean neg_MSE=-2.7046  (elapsed 249s)\n",
            "      14/  36  params={'learning_rate': 0.03, 'max_depth': 4}  → mean neg_MSE=-2.5797  (elapsed 253s)\n",
            "      15/  36  params={'learning_rate': 0.03, 'max_depth': 5}  → mean neg_MSE=-2.4823  (elapsed 259s)\n",
            "      16/  36  params={'learning_rate': 0.03, 'max_depth': 6}  → mean neg_MSE=-2.4072  (elapsed 270s)\n",
            "      17/  36  params={'learning_rate': 0.03, 'max_depth': 7}  → mean neg_MSE=-2.3535  (elapsed 289s)\n",
            "      18/  36  params={'learning_rate': 0.03, 'max_depth': 8}  → mean neg_MSE=-2.3211  (elapsed 318s)\n",
            "      19/  36  params={'learning_rate': 0.05, 'max_depth': 3}  → mean neg_MSE=-2.5715  (elapsed 362s)\n",
            "      20/  36  params={'learning_rate': 0.05, 'max_depth': 4}  → mean neg_MSE=-2.4559  (elapsed 366s)\n",
            "      21/  36  params={'learning_rate': 0.05, 'max_depth': 5}  → mean neg_MSE=-2.3678  (elapsed 372s)\n",
            "      22/  36  params={'learning_rate': 0.05, 'max_depth': 6}  → mean neg_MSE=-2.3042  (elapsed 383s)\n",
            "      23/  36  params={'learning_rate': 0.05, 'max_depth': 7}  → mean neg_MSE=-2.2652  (elapsed 400s)\n",
            "      24/  36  params={'learning_rate': 0.05, 'max_depth': 8}  → mean neg_MSE=-2.2383  (elapsed 426s)\n",
            "      25/  36  params={'learning_rate': 0.07, 'max_depth': 3}  → mean neg_MSE=-2.4981  (elapsed 464s)\n",
            "      26/  36  params={'learning_rate': 0.07, 'max_depth': 4}  → mean neg_MSE=-2.3948  (elapsed 467s)\n",
            "      27/  36  params={'learning_rate': 0.07, 'max_depth': 5}  → mean neg_MSE=-2.3203  (elapsed 473s)\n",
            "      28/  36  params={'learning_rate': 0.07, 'max_depth': 6}  → mean neg_MSE=-2.2658  (elapsed 484s)\n",
            "      29/  36  params={'learning_rate': 0.07, 'max_depth': 7}  → mean neg_MSE=-2.2340  (elapsed 499s)\n",
            "      30/  36  params={'learning_rate': 0.07, 'max_depth': 8}  → mean neg_MSE=-2.2140  (elapsed 521s)\n",
            "      31/  36  params={'learning_rate': 0.1, 'max_depth': 3}  → mean neg_MSE=-2.4408  (elapsed 554s)\n",
            "      32/  36  params={'learning_rate': 0.1, 'max_depth': 4}  → mean neg_MSE=-2.3504  (elapsed 557s)\n",
            "      33/  36  params={'learning_rate': 0.1, 'max_depth': 5}  → mean neg_MSE=-2.2892  (elapsed 563s)\n",
            "      34/  36  params={'learning_rate': 0.1, 'max_depth': 6}  → mean neg_MSE=-2.2460  (elapsed 572s)\n",
            "      35/  36  params={'learning_rate': 0.1, 'max_depth': 7}  → mean neg_MSE=-2.2166  (elapsed 586s)\n",
            "      36/  36  params={'learning_rate': 0.1, 'max_depth': 8}  → mean neg_MSE=-2.1930  (elapsed 606s)\n",
            "[6] Manual grid search done in 634s; best_params={'learning_rate': 0.1, 'max_depth': 8}\n"
          ]
        },
        {
          "output_type": "execute_result",
          "data": {
            "text/plain": [
              "XGBRegressor(base_score=None, booster=None, callbacks=None,\n",
              "             colsample_bylevel=None, colsample_bynode=None,\n",
              "             colsample_bytree=None, device=None, early_stopping_rounds=None,\n",
              "             enable_categorical=False, eval_metric=None, feature_types=None,\n",
              "             gamma=None, grow_policy=None, importance_type=None,\n",
              "             interaction_constraints=None, learning_rate=0.1, max_bin=None,\n",
              "             max_cat_threshold=None, max_cat_to_onehot=None,\n",
              "             max_delta_step=None, max_depth=8, max_leaves=None,\n",
              "             min_child_weight=None, missing=nan, monotone_constraints=None,\n",
              "             multi_strategy=None, n_estimators=None, n_jobs=None,\n",
              "             num_parallel_tree=None, random_state=42, ...)"
            ],
            "text/html": [
              "<style>#sk-container-id-2 {\n",
              "  /* Definition of color scheme common for light and dark mode */\n",
              "  --sklearn-color-text: #000;\n",
              "  --sklearn-color-text-muted: #666;\n",
              "  --sklearn-color-line: gray;\n",
              "  /* Definition of color scheme for unfitted estimators */\n",
              "  --sklearn-color-unfitted-level-0: #fff5e6;\n",
              "  --sklearn-color-unfitted-level-1: #f6e4d2;\n",
              "  --sklearn-color-unfitted-level-2: #ffe0b3;\n",
              "  --sklearn-color-unfitted-level-3: chocolate;\n",
              "  /* Definition of color scheme for fitted estimators */\n",
              "  --sklearn-color-fitted-level-0: #f0f8ff;\n",
              "  --sklearn-color-fitted-level-1: #d4ebff;\n",
              "  --sklearn-color-fitted-level-2: #b3dbfd;\n",
              "  --sklearn-color-fitted-level-3: cornflowerblue;\n",
              "\n",
              "  /* Specific color for light theme */\n",
              "  --sklearn-color-text-on-default-background: var(--sg-text-color, var(--theme-code-foreground, var(--jp-content-font-color1, black)));\n",
              "  --sklearn-color-background: var(--sg-background-color, var(--theme-background, var(--jp-layout-color0, white)));\n",
              "  --sklearn-color-border-box: var(--sg-text-color, var(--theme-code-foreground, var(--jp-content-font-color1, black)));\n",
              "  --sklearn-color-icon: #696969;\n",
              "\n",
              "  @media (prefers-color-scheme: dark) {\n",
              "    /* Redefinition of color scheme for dark theme */\n",
              "    --sklearn-color-text-on-default-background: var(--sg-text-color, var(--theme-code-foreground, var(--jp-content-font-color1, white)));\n",
              "    --sklearn-color-background: var(--sg-background-color, var(--theme-background, var(--jp-layout-color0, #111)));\n",
              "    --sklearn-color-border-box: var(--sg-text-color, var(--theme-code-foreground, var(--jp-content-font-color1, white)));\n",
              "    --sklearn-color-icon: #878787;\n",
              "  }\n",
              "}\n",
              "\n",
              "#sk-container-id-2 {\n",
              "  color: var(--sklearn-color-text);\n",
              "}\n",
              "\n",
              "#sk-container-id-2 pre {\n",
              "  padding: 0;\n",
              "}\n",
              "\n",
              "#sk-container-id-2 input.sk-hidden--visually {\n",
              "  border: 0;\n",
              "  clip: rect(1px 1px 1px 1px);\n",
              "  clip: rect(1px, 1px, 1px, 1px);\n",
              "  height: 1px;\n",
              "  margin: -1px;\n",
              "  overflow: hidden;\n",
              "  padding: 0;\n",
              "  position: absolute;\n",
              "  width: 1px;\n",
              "}\n",
              "\n",
              "#sk-container-id-2 div.sk-dashed-wrapped {\n",
              "  border: 1px dashed var(--sklearn-color-line);\n",
              "  margin: 0 0.4em 0.5em 0.4em;\n",
              "  box-sizing: border-box;\n",
              "  padding-bottom: 0.4em;\n",
              "  background-color: var(--sklearn-color-background);\n",
              "}\n",
              "\n",
              "#sk-container-id-2 div.sk-container {\n",
              "  /* jupyter's `normalize.less` sets `[hidden] { display: none; }`\n",
              "     but bootstrap.min.css set `[hidden] { display: none !important; }`\n",
              "     so we also need the `!important` here to be able to override the\n",
              "     default hidden behavior on the sphinx rendered scikit-learn.org.\n",
              "     See: https://github.com/scikit-learn/scikit-learn/issues/21755 */\n",
              "  display: inline-block !important;\n",
              "  position: relative;\n",
              "}\n",
              "\n",
              "#sk-container-id-2 div.sk-text-repr-fallback {\n",
              "  display: none;\n",
              "}\n",
              "\n",
              "div.sk-parallel-item,\n",
              "div.sk-serial,\n",
              "div.sk-item {\n",
              "  /* draw centered vertical line to link estimators */\n",
              "  background-image: linear-gradient(var(--sklearn-color-text-on-default-background), var(--sklearn-color-text-on-default-background));\n",
              "  background-size: 2px 100%;\n",
              "  background-repeat: no-repeat;\n",
              "  background-position: center center;\n",
              "}\n",
              "\n",
              "/* Parallel-specific style estimator block */\n",
              "\n",
              "#sk-container-id-2 div.sk-parallel-item::after {\n",
              "  content: \"\";\n",
              "  width: 100%;\n",
              "  border-bottom: 2px solid var(--sklearn-color-text-on-default-background);\n",
              "  flex-grow: 1;\n",
              "}\n",
              "\n",
              "#sk-container-id-2 div.sk-parallel {\n",
              "  display: flex;\n",
              "  align-items: stretch;\n",
              "  justify-content: center;\n",
              "  background-color: var(--sklearn-color-background);\n",
              "  position: relative;\n",
              "}\n",
              "\n",
              "#sk-container-id-2 div.sk-parallel-item {\n",
              "  display: flex;\n",
              "  flex-direction: column;\n",
              "}\n",
              "\n",
              "#sk-container-id-2 div.sk-parallel-item:first-child::after {\n",
              "  align-self: flex-end;\n",
              "  width: 50%;\n",
              "}\n",
              "\n",
              "#sk-container-id-2 div.sk-parallel-item:last-child::after {\n",
              "  align-self: flex-start;\n",
              "  width: 50%;\n",
              "}\n",
              "\n",
              "#sk-container-id-2 div.sk-parallel-item:only-child::after {\n",
              "  width: 0;\n",
              "}\n",
              "\n",
              "/* Serial-specific style estimator block */\n",
              "\n",
              "#sk-container-id-2 div.sk-serial {\n",
              "  display: flex;\n",
              "  flex-direction: column;\n",
              "  align-items: center;\n",
              "  background-color: var(--sklearn-color-background);\n",
              "  padding-right: 1em;\n",
              "  padding-left: 1em;\n",
              "}\n",
              "\n",
              "\n",
              "/* Toggleable style: style used for estimator/Pipeline/ColumnTransformer box that is\n",
              "clickable and can be expanded/collapsed.\n",
              "- Pipeline and ColumnTransformer use this feature and define the default style\n",
              "- Estimators will overwrite some part of the style using the `sk-estimator` class\n",
              "*/\n",
              "\n",
              "/* Pipeline and ColumnTransformer style (default) */\n",
              "\n",
              "#sk-container-id-2 div.sk-toggleable {\n",
              "  /* Default theme specific background. It is overwritten whether we have a\n",
              "  specific estimator or a Pipeline/ColumnTransformer */\n",
              "  background-color: var(--sklearn-color-background);\n",
              "}\n",
              "\n",
              "/* Toggleable label */\n",
              "#sk-container-id-2 label.sk-toggleable__label {\n",
              "  cursor: pointer;\n",
              "  display: flex;\n",
              "  width: 100%;\n",
              "  margin-bottom: 0;\n",
              "  padding: 0.5em;\n",
              "  box-sizing: border-box;\n",
              "  text-align: center;\n",
              "  align-items: start;\n",
              "  justify-content: space-between;\n",
              "  gap: 0.5em;\n",
              "}\n",
              "\n",
              "#sk-container-id-2 label.sk-toggleable__label .caption {\n",
              "  font-size: 0.6rem;\n",
              "  font-weight: lighter;\n",
              "  color: var(--sklearn-color-text-muted);\n",
              "}\n",
              "\n",
              "#sk-container-id-2 label.sk-toggleable__label-arrow:before {\n",
              "  /* Arrow on the left of the label */\n",
              "  content: \"▸\";\n",
              "  float: left;\n",
              "  margin-right: 0.25em;\n",
              "  color: var(--sklearn-color-icon);\n",
              "}\n",
              "\n",
              "#sk-container-id-2 label.sk-toggleable__label-arrow:hover:before {\n",
              "  color: var(--sklearn-color-text);\n",
              "}\n",
              "\n",
              "/* Toggleable content - dropdown */\n",
              "\n",
              "#sk-container-id-2 div.sk-toggleable__content {\n",
              "  max-height: 0;\n",
              "  max-width: 0;\n",
              "  overflow: hidden;\n",
              "  text-align: left;\n",
              "  /* unfitted */\n",
              "  background-color: var(--sklearn-color-unfitted-level-0);\n",
              "}\n",
              "\n",
              "#sk-container-id-2 div.sk-toggleable__content.fitted {\n",
              "  /* fitted */\n",
              "  background-color: var(--sklearn-color-fitted-level-0);\n",
              "}\n",
              "\n",
              "#sk-container-id-2 div.sk-toggleable__content pre {\n",
              "  margin: 0.2em;\n",
              "  border-radius: 0.25em;\n",
              "  color: var(--sklearn-color-text);\n",
              "  /* unfitted */\n",
              "  background-color: var(--sklearn-color-unfitted-level-0);\n",
              "}\n",
              "\n",
              "#sk-container-id-2 div.sk-toggleable__content.fitted pre {\n",
              "  /* unfitted */\n",
              "  background-color: var(--sklearn-color-fitted-level-0);\n",
              "}\n",
              "\n",
              "#sk-container-id-2 input.sk-toggleable__control:checked~div.sk-toggleable__content {\n",
              "  /* Expand drop-down */\n",
              "  max-height: 200px;\n",
              "  max-width: 100%;\n",
              "  overflow: auto;\n",
              "}\n",
              "\n",
              "#sk-container-id-2 input.sk-toggleable__control:checked~label.sk-toggleable__label-arrow:before {\n",
              "  content: \"▾\";\n",
              "}\n",
              "\n",
              "/* Pipeline/ColumnTransformer-specific style */\n",
              "\n",
              "#sk-container-id-2 div.sk-label input.sk-toggleable__control:checked~label.sk-toggleable__label {\n",
              "  color: var(--sklearn-color-text);\n",
              "  background-color: var(--sklearn-color-unfitted-level-2);\n",
              "}\n",
              "\n",
              "#sk-container-id-2 div.sk-label.fitted input.sk-toggleable__control:checked~label.sk-toggleable__label {\n",
              "  background-color: var(--sklearn-color-fitted-level-2);\n",
              "}\n",
              "\n",
              "/* Estimator-specific style */\n",
              "\n",
              "/* Colorize estimator box */\n",
              "#sk-container-id-2 div.sk-estimator input.sk-toggleable__control:checked~label.sk-toggleable__label {\n",
              "  /* unfitted */\n",
              "  background-color: var(--sklearn-color-unfitted-level-2);\n",
              "}\n",
              "\n",
              "#sk-container-id-2 div.sk-estimator.fitted input.sk-toggleable__control:checked~label.sk-toggleable__label {\n",
              "  /* fitted */\n",
              "  background-color: var(--sklearn-color-fitted-level-2);\n",
              "}\n",
              "\n",
              "#sk-container-id-2 div.sk-label label.sk-toggleable__label,\n",
              "#sk-container-id-2 div.sk-label label {\n",
              "  /* The background is the default theme color */\n",
              "  color: var(--sklearn-color-text-on-default-background);\n",
              "}\n",
              "\n",
              "/* On hover, darken the color of the background */\n",
              "#sk-container-id-2 div.sk-label:hover label.sk-toggleable__label {\n",
              "  color: var(--sklearn-color-text);\n",
              "  background-color: var(--sklearn-color-unfitted-level-2);\n",
              "}\n",
              "\n",
              "/* Label box, darken color on hover, fitted */\n",
              "#sk-container-id-2 div.sk-label.fitted:hover label.sk-toggleable__label.fitted {\n",
              "  color: var(--sklearn-color-text);\n",
              "  background-color: var(--sklearn-color-fitted-level-2);\n",
              "}\n",
              "\n",
              "/* Estimator label */\n",
              "\n",
              "#sk-container-id-2 div.sk-label label {\n",
              "  font-family: monospace;\n",
              "  font-weight: bold;\n",
              "  display: inline-block;\n",
              "  line-height: 1.2em;\n",
              "}\n",
              "\n",
              "#sk-container-id-2 div.sk-label-container {\n",
              "  text-align: center;\n",
              "}\n",
              "\n",
              "/* Estimator-specific */\n",
              "#sk-container-id-2 div.sk-estimator {\n",
              "  font-family: monospace;\n",
              "  border: 1px dotted var(--sklearn-color-border-box);\n",
              "  border-radius: 0.25em;\n",
              "  box-sizing: border-box;\n",
              "  margin-bottom: 0.5em;\n",
              "  /* unfitted */\n",
              "  background-color: var(--sklearn-color-unfitted-level-0);\n",
              "}\n",
              "\n",
              "#sk-container-id-2 div.sk-estimator.fitted {\n",
              "  /* fitted */\n",
              "  background-color: var(--sklearn-color-fitted-level-0);\n",
              "}\n",
              "\n",
              "/* on hover */\n",
              "#sk-container-id-2 div.sk-estimator:hover {\n",
              "  /* unfitted */\n",
              "  background-color: var(--sklearn-color-unfitted-level-2);\n",
              "}\n",
              "\n",
              "#sk-container-id-2 div.sk-estimator.fitted:hover {\n",
              "  /* fitted */\n",
              "  background-color: var(--sklearn-color-fitted-level-2);\n",
              "}\n",
              "\n",
              "/* Specification for estimator info (e.g. \"i\" and \"?\") */\n",
              "\n",
              "/* Common style for \"i\" and \"?\" */\n",
              "\n",
              ".sk-estimator-doc-link,\n",
              "a:link.sk-estimator-doc-link,\n",
              "a:visited.sk-estimator-doc-link {\n",
              "  float: right;\n",
              "  font-size: smaller;\n",
              "  line-height: 1em;\n",
              "  font-family: monospace;\n",
              "  background-color: var(--sklearn-color-background);\n",
              "  border-radius: 1em;\n",
              "  height: 1em;\n",
              "  width: 1em;\n",
              "  text-decoration: none !important;\n",
              "  margin-left: 0.5em;\n",
              "  text-align: center;\n",
              "  /* unfitted */\n",
              "  border: var(--sklearn-color-unfitted-level-1) 1pt solid;\n",
              "  color: var(--sklearn-color-unfitted-level-1);\n",
              "}\n",
              "\n",
              ".sk-estimator-doc-link.fitted,\n",
              "a:link.sk-estimator-doc-link.fitted,\n",
              "a:visited.sk-estimator-doc-link.fitted {\n",
              "  /* fitted */\n",
              "  border: var(--sklearn-color-fitted-level-1) 1pt solid;\n",
              "  color: var(--sklearn-color-fitted-level-1);\n",
              "}\n",
              "\n",
              "/* On hover */\n",
              "div.sk-estimator:hover .sk-estimator-doc-link:hover,\n",
              ".sk-estimator-doc-link:hover,\n",
              "div.sk-label-container:hover .sk-estimator-doc-link:hover,\n",
              ".sk-estimator-doc-link:hover {\n",
              "  /* unfitted */\n",
              "  background-color: var(--sklearn-color-unfitted-level-3);\n",
              "  color: var(--sklearn-color-background);\n",
              "  text-decoration: none;\n",
              "}\n",
              "\n",
              "div.sk-estimator.fitted:hover .sk-estimator-doc-link.fitted:hover,\n",
              ".sk-estimator-doc-link.fitted:hover,\n",
              "div.sk-label-container:hover .sk-estimator-doc-link.fitted:hover,\n",
              ".sk-estimator-doc-link.fitted:hover {\n",
              "  /* fitted */\n",
              "  background-color: var(--sklearn-color-fitted-level-3);\n",
              "  color: var(--sklearn-color-background);\n",
              "  text-decoration: none;\n",
              "}\n",
              "\n",
              "/* Span, style for the box shown on hovering the info icon */\n",
              ".sk-estimator-doc-link span {\n",
              "  display: none;\n",
              "  z-index: 9999;\n",
              "  position: relative;\n",
              "  font-weight: normal;\n",
              "  right: .2ex;\n",
              "  padding: .5ex;\n",
              "  margin: .5ex;\n",
              "  width: min-content;\n",
              "  min-width: 20ex;\n",
              "  max-width: 50ex;\n",
              "  color: var(--sklearn-color-text);\n",
              "  box-shadow: 2pt 2pt 4pt #999;\n",
              "  /* unfitted */\n",
              "  background: var(--sklearn-color-unfitted-level-0);\n",
              "  border: .5pt solid var(--sklearn-color-unfitted-level-3);\n",
              "}\n",
              "\n",
              ".sk-estimator-doc-link.fitted span {\n",
              "  /* fitted */\n",
              "  background: var(--sklearn-color-fitted-level-0);\n",
              "  border: var(--sklearn-color-fitted-level-3);\n",
              "}\n",
              "\n",
              ".sk-estimator-doc-link:hover span {\n",
              "  display: block;\n",
              "}\n",
              "\n",
              "/* \"?\"-specific style due to the `<a>` HTML tag */\n",
              "\n",
              "#sk-container-id-2 a.estimator_doc_link {\n",
              "  float: right;\n",
              "  font-size: 1rem;\n",
              "  line-height: 1em;\n",
              "  font-family: monospace;\n",
              "  background-color: var(--sklearn-color-background);\n",
              "  border-radius: 1rem;\n",
              "  height: 1rem;\n",
              "  width: 1rem;\n",
              "  text-decoration: none;\n",
              "  /* unfitted */\n",
              "  color: var(--sklearn-color-unfitted-level-1);\n",
              "  border: var(--sklearn-color-unfitted-level-1) 1pt solid;\n",
              "}\n",
              "\n",
              "#sk-container-id-2 a.estimator_doc_link.fitted {\n",
              "  /* fitted */\n",
              "  border: var(--sklearn-color-fitted-level-1) 1pt solid;\n",
              "  color: var(--sklearn-color-fitted-level-1);\n",
              "}\n",
              "\n",
              "/* On hover */\n",
              "#sk-container-id-2 a.estimator_doc_link:hover {\n",
              "  /* unfitted */\n",
              "  background-color: var(--sklearn-color-unfitted-level-3);\n",
              "  color: var(--sklearn-color-background);\n",
              "  text-decoration: none;\n",
              "}\n",
              "\n",
              "#sk-container-id-2 a.estimator_doc_link.fitted:hover {\n",
              "  /* fitted */\n",
              "  background-color: var(--sklearn-color-fitted-level-3);\n",
              "}\n",
              "</style><div id=\"sk-container-id-2\" class=\"sk-top-container\"><div class=\"sk-text-repr-fallback\"><pre>XGBRegressor(base_score=None, booster=None, callbacks=None,\n",
              "             colsample_bylevel=None, colsample_bynode=None,\n",
              "             colsample_bytree=None, device=None, early_stopping_rounds=None,\n",
              "             enable_categorical=False, eval_metric=None, feature_types=None,\n",
              "             gamma=None, grow_policy=None, importance_type=None,\n",
              "             interaction_constraints=None, learning_rate=0.1, max_bin=None,\n",
              "             max_cat_threshold=None, max_cat_to_onehot=None,\n",
              "             max_delta_step=None, max_depth=8, max_leaves=None,\n",
              "             min_child_weight=None, missing=nan, monotone_constraints=None,\n",
              "             multi_strategy=None, n_estimators=None, n_jobs=None,\n",
              "             num_parallel_tree=None, random_state=42, ...)</pre><b>In a Jupyter environment, please rerun this cell to show the HTML representation or trust the notebook. <br />On GitHub, the HTML representation is unable to render, please try loading this page with nbviewer.org.</b></div><div class=\"sk-container\" hidden><div class=\"sk-item\"><div class=\"sk-estimator fitted sk-toggleable\"><input class=\"sk-toggleable__control sk-hidden--visually\" id=\"sk-estimator-id-2\" type=\"checkbox\" checked><label for=\"sk-estimator-id-2\" class=\"sk-toggleable__label fitted sk-toggleable__label-arrow\"><div><div>XGBRegressor</div></div><div><span class=\"sk-estimator-doc-link fitted\">i<span>Fitted</span></span></div></label><div class=\"sk-toggleable__content fitted\"><pre>XGBRegressor(base_score=None, booster=None, callbacks=None,\n",
              "             colsample_bylevel=None, colsample_bynode=None,\n",
              "             colsample_bytree=None, device=None, early_stopping_rounds=None,\n",
              "             enable_categorical=False, eval_metric=None, feature_types=None,\n",
              "             gamma=None, grow_policy=None, importance_type=None,\n",
              "             interaction_constraints=None, learning_rate=0.1, max_bin=None,\n",
              "             max_cat_threshold=None, max_cat_to_onehot=None,\n",
              "             max_delta_step=None, max_depth=8, max_leaves=None,\n",
              "             min_child_weight=None, missing=nan, monotone_constraints=None,\n",
              "             multi_strategy=None, n_estimators=None, n_jobs=None,\n",
              "             num_parallel_tree=None, random_state=42, ...)</pre></div> </div></div></div></div>"
            ]
          },
          "metadata": {},
          "execution_count": 30
        }
      ],
      "source": [
        "param_grid = {\n",
        "    \"max_depth\": [3, 4, 5, 6, 7, 8],                # 6 values\n",
        "    \"learning_rate\": [0.01, 0.02, 0.03, 0.05,\n",
        "                      0.07, 0.1]                   # 6 values\n",
        "}\n",
        "\n",
        "\n",
        "print(\"[6] Starting manual grid search with 1 h timeout…\")\n",
        "start_grid = time.time()\n",
        "best_score  = -np.inf\n",
        "best_params = None\n",
        "grid_list   = list(ParameterGrid(param_grid))\n",
        "n_total     = len(grid_list)\n",
        "\n",
        "for idx, params in enumerate(grid_list, start=1):\n",
        "    elapsed = time.time() - start_grid\n",
        "    if elapsed > TIMEOUT:\n",
        "        print(f\"    ⏱ Time limit reached ({elapsed:.0f}s); stopping grid search.\")\n",
        "        break\n",
        "\n",
        "    model_tmp = XGBRegressor(objective=\"reg:squarederror\", random_state=SEED, **params)\n",
        "    scores    = cross_val_score(\n",
        "        model_tmp,\n",
        "        X_tr_s, y_tr,\n",
        "        cv=5,\n",
        "        scoring=\"neg_mean_squared_error\",\n",
        "        n_jobs=-1\n",
        "    )\n",
        "    mean_score = np.mean(scores)\n",
        "    print(f\"    {idx:4d}/{n_total:4d}  params={params}  → mean neg_MSE={mean_score:.4f}  (elapsed {elapsed:.0f}s)\")\n",
        "\n",
        "    if mean_score > best_score:\n",
        "        best_score  = mean_score\n",
        "        best_params = params\n",
        "\n",
        "print(f\"[6] Manual grid search done in {time.time()-start_grid:.0f}s; best_params={best_params}\")\n",
        "\n",
        "model = XGBRegressor(objective=\"reg:squarederror\", random_state=SEED, **best_params)\n",
        "model.fit(X_tr_s, y_tr)"
      ]
    },
    {
      "cell_type": "markdown",
      "metadata": {
        "id": "742z7qYr2hxt"
      },
      "source": [
        "Evaluate and write results"
      ]
    },
    {
      "cell_type": "code",
      "execution_count": null,
      "metadata": {
        "colab": {
          "base_uri": "https://localhost:8080/"
        },
        "id": "m0UCgb862hBc",
        "outputId": "85e154e9-9dc0-4ed6-b1da-9e4cbf6305a2"
      },
      "outputs": [
        {
          "output_type": "stream",
          "name": "stdout",
          "text": [
            "\n",
            "[7] Overall performance:\n",
            "TRAIN → MSE=0.010530, RMSE=0.102616, MAE=0.021575, R²=0.309\n",
            "VAL   → MSE=0.012468, RMSE=0.111660, MAE=0.023464, R²=0.067\n",
            "TEST  → MSE=0.008071, RMSE=0.089841, MAE=0.015376, R²=0.024\n",
            "       Mean(actual−pred) = 0.012806\n",
            "\n",
            "[8] Worst‐CVEs (top 5 %):\n",
            "WORST → n=450, MSE=0.160868, RMSE=0.401084, MAE=0.269385, R²=-0.776\n"
          ]
        }
      ],
      "source": [
        "with open(\"results_grid.txt\",\"w\") as out:\n",
        "    out.write(f\"Best params: {best_params}\\n\\n\")\n",
        "    def report(name, Xs, ys, df_=None):\n",
        "        y_log = model.predict(Xs)\n",
        "        y_pred= expit(y_log)\n",
        "        y_true= expit(ys)\n",
        "        mse   = mean_squared_error(y_true, y_pred)\n",
        "        rmse  = np.sqrt(mse)\n",
        "        mae   = mean_absolute_error(y_true, y_pred)\n",
        "        r2    = r2_score(y_true, y_pred)\n",
        "        out.write(f\"{name:5s} → MSE={mse:.6f}, RMSE={rmse:.6f}, \"\n",
        "                  f\"MAE={mae:.6f}, R²={r2:.3f}\\n\")\n",
        "        print(f\"{name:5s} → MSE={mse:.6f}, RMSE={rmse:.6f}, \"\n",
        "              f\"MAE={mae:.6f}, R²={r2:.3f}\")\n",
        "        if df_ is not None:\n",
        "            df_ = df_.copy()\n",
        "            df_[\"pred\"]   = y_pred\n",
        "            df_[\"actual\"] = y_true\n",
        "            mdiff = np.mean(df_[\"actual\"] - df_[\"pred\"])\n",
        "            out.write(f\"       Mean(actual−pred) = {mdiff:.6f}\\n\")\n",
        "            print(f\"       Mean(actual−pred) = {mdiff:.6f}\\n\")\n",
        "\n",
        "    out.write(\"—— Overall performance ——\\n\")\n",
        "    print(\"\\n[7] Overall performance:\")\n",
        "    report(\"TRAIN\", X_tr_s, y_tr)\n",
        "    report(\"VAL\",   X_val_s, y_val)\n",
        "    report(\"TEST\",  X_te_s, y_te, df_test)\n",
        "\n",
        "    out.write(\"\\n—— Worst‐CVEs (top 5 %) ——\\n\")\n",
        "    print(\"[8] Worst‐CVEs (top 5 %):\")\n",
        "    df2 = df_test.copy()\n",
        "    df2[\"pred\"]   = expit(model.predict(X_te_s))\n",
        "    df2[\"actual\"] = df2[\"epss\"]\n",
        "    n_worst = int(len(df2)*WORST_FRAC)\n",
        "    worst   = df2.nlargest(n_worst, \"actual\")\n",
        "    y_t = worst[\"actual\"].values\n",
        "    y_p = worst[\"pred\"].values\n",
        "    mse_w  = mean_squared_error(y_t,y_p)\n",
        "    rmse_w = np.sqrt(mse_w)\n",
        "    mae_w  = mean_absolute_error(y_t,y_p)\n",
        "    r2_w   = r2_score(y_t,y_p)\n",
        "    out.write(f\"WORST → n={n_worst}, MSE={mse_w:.6f}, RMSE={rmse_w:.6f}, \"\n",
        "              f\"MAE={mae_w:.6f}, R²={r2_w:.3f}\\n\")\n",
        "    print(f\"WORST → n={n_worst}, MSE={mse_w:.6f}, RMSE={rmse_w:.6f}, \"\n",
        "          f\"MAE={mae_w:.6f}, R²={r2_w:.3f}\")"
      ]
    },
    {
      "cell_type": "markdown",
      "metadata": {
        "id": "59y4YvFO2nhi"
      },
      "source": [
        "Learning curve -> Save PNG"
      ]
    },
    {
      "cell_type": "code",
      "execution_count": null,
      "metadata": {
        "id": "YnltIAfR2o_P"
      },
      "outputs": [],
      "source": [
        "pipe = Pipeline([\n",
        "    (\"scaler\", StandardScaler(with_mean=False)),\n",
        "    (\"reg\",    model)\n",
        "])\n",
        "sz, tr_mse, val_mse = learning_curve(\n",
        "    pipe, X_tr_s, y_tr,\n",
        "    cv=5,\n",
        "    scoring=\"neg_mean_squared_error\",\n",
        "    train_sizes=np.linspace(0.1,1.0,10),\n",
        "    shuffle=True,\n",
        "    random_state=SEED,\n",
        "    n_jobs=-1\n",
        ")\n",
        "tr_rmse  = np.sqrt(-tr_mse.mean(axis=1))\n",
        "val_rmse = np.sqrt(-val_mse.mean(axis=1))\n",
        "\n",
        "plt.figure(figsize=(8,5))\n",
        "plt.plot(sz,  tr_rmse,  label=\"Train RMSE\")\n",
        "plt.plot(sz,  val_rmse, label=\"Val RMSE\")\n",
        "plt.xlabel(\"Training set size\")\n",
        "plt.ylabel(\"RMSE\")\n",
        "plt.title(\"Learning Curve (GridSearchCV)\")\n",
        "plt.legend()\n",
        "plt.tight_layout()\n",
        "plt.savefig(\"learning_curve_grid.png\")\n",
        "plt.close()\n"
      ]
    },
    {
      "cell_type": "markdown",
      "metadata": {
        "id": "3GmUqr-a2uJp"
      },
      "source": [
        "Residual Plot -> Save PNG"
      ]
    },
    {
      "cell_type": "code",
      "execution_count": null,
      "metadata": {
        "colab": {
          "base_uri": "https://localhost:8080/"
        },
        "id": "pWEgFQrQ2vjr",
        "outputId": "9a1c37a9-5c19-4c35-abe5-5b4290919a0d"
      },
      "outputs": [
        {
          "name": "stdout",
          "output_type": "stream",
          "text": [
            "[DONE] total runtime 4487.6s\n"
          ]
        }
      ],
      "source": [
        "y_tst_true = expit(y_te)\n",
        "y_tst_pred = expit(model.predict(X_te_s))\n",
        "resid = y_tst_true - y_tst_pred\n",
        "\n",
        "plt.figure(figsize=(8,5))\n",
        "plt.scatter(y_tst_true, resid, alpha=0.3, edgecolor=\"none\")\n",
        "plt.axhline(0, color=\"k\", linewidth=1)\n",
        "plt.xlabel(\"True EPSS\")\n",
        "plt.ylabel(\"Residual (true−pred)\")\n",
        "plt.title(\"Residuals on Test Set (Grid)\")\n",
        "plt.tight_layout()\n",
        "plt.savefig(\"residuals_grid.png\")\n",
        "plt.close()\n",
        "\n",
        "end_all = time.perf_counter()\n",
        "print(f\"[DONE] total runtime {end_all-start_all:.1f}s\")\n"
      ]
    },
    {
      "cell_type": "markdown",
      "metadata": {
        "id": "BQ5hR3-m1nKl"
      },
      "source": [
        "Plotting results"
      ]
    },
    {
      "cell_type": "code",
      "execution_count": null,
      "metadata": {
        "colab": {
          "base_uri": "https://localhost:8080/",
          "height": 997
        },
        "id": "8N3ODKsf6wMH",
        "outputId": "cc5c72bb-65ff-46ce-fb43-63125586a87f"
      },
      "outputs": [
        {
          "data": {
            "image/png": "[encoded data removed]",
            "text/plain": [
              "<Figure size 800x500 with 1 Axes>"
            ]
          },
          "metadata": {},
          "output_type": "display_data"
        },
        {
          "data": {
            "image/png": "[encoded data removed]",
            "text/plain": [
              "<Figure size 800x500 with 1 Axes>"
            ]
          },
          "metadata": {},
          "output_type": "display_data"
        }
      ],
      "source": [
        "import matplotlib.pyplot as plt\n",
        "import matplotlib.image as mpimg\n",
        "\n",
        "plots = [\n",
        "    (\"learning_curve_grid.png\", \"Learning Curve (GridSearchCV)\"),\n",
        "    (\"residuals_grid.png\",     \"Residuals on Test Set (Grid)\")\n",
        "]\n",
        "\n",
        "for fname, title in plots:\n",
        "    # load image\n",
        "    img = mpimg.imread(fname)\n",
        "    # display\n",
        "    plt.figure(figsize=(8,5))\n",
        "    plt.imshow(img)\n",
        "    plt.axis(\"off\")\n",
        "    plt.title(title)\n",
        "    plt.tight_layout()\n",
        "    plt.show()\n"
      ]
    },
    {
      "cell_type": "markdown",
      "metadata": {
        "id": "cmnnNuu9YLu8"
      },
      "source": [
        "TPE"
      ]
    },
    {
      "cell_type": "code",
      "execution_count": null,
      "metadata": {
        "colab": {
          "base_uri": "https://localhost:8080/",
          "height": 1000,
          "referenced_widgets": [
            "2e5b6d58346f4453a0ba4cb5d95a1159",
            "e5a7a9a7a76a4678ba6e8e9d3881e548",
            "4a17854166ef4de7bd6929a05022fb00",
            "cbb9708c07c74326921f05dd8d05fcf5",
            "9d7e77dec09c49e3a13930d63671c588",
            "facc5aa4d22941b1901702d47d1849d3",
            "988a58d1fd3a4b4da94dd7fc6bef24de",
            "ba2910d6f8af4a1d9467c971e0418395",
            "5d66fd1079e8469aaef7a5e931a0e996",
            "36e9230182014e3ab0d1dbf7970b1d71",
            "48d1d3e06df846bdbe8d7eeabd81f7b3"
          ]
        },
        "id": "A-TF5MjmYHnW",
        "outputId": "124a658c-ce6f-49ef-9748-e783f263a7f2"
      },
      "outputs": [
        {
          "metadata": {
            "tags": null
          },
          "name": "stderr",
          "output_type": "stream",
          "text": [
            "[I 2025-06-12 16:20:01,438] A new study created in memory with name: xgb_tpe_study\n"
          ]
        },
        {
          "metadata": {
            "tags": null
          },
          "name": "stdout",
          "output_type": "stream",
          "text": [
            "\n",
            "[5-TPE] Starting TPE optimization...\n"
          ]
        },
        {
          "data": {
            "application/vnd.jupyter.widget-view+json": {
              "model_id": "2e5b6d58346f4453a0ba4cb5d95a1159",
              "version_major": 2,
              "version_minor": 0
            },
            "text/plain": [
              "  0%|          | 0/100 [00:00<?, ?it/s]"
            ]
          },
          "metadata": {},
          "output_type": "display_data"
        },
        {
          "metadata": {
            "tags": null
          },
          "name": "stdout",
          "output_type": "stream",
          "text": [
            "[I 2025-06-12 16:20:12,161] Trial 0 finished with value: 2.2967308558629833 and parameters: {'max_depth': 5, 'learning_rate': 0.08927180304353628}. Best is trial 0 with value: 2.2967308558629833.\n",
            "[I 2025-06-12 16:20:41,144] Trial 1 finished with value: 2.3016414159197063 and parameters: {'max_depth': 7, 'learning_rate': 0.03968793330444373}. Best is trial 0 with value: 2.2967308558629833.\n",
            "[I 2025-06-12 16:20:46,026] Trial 2 finished with value: 2.9495199549483213 and parameters: {'max_depth': 3, 'learning_rate': 0.01432169828911152}. Best is trial 0 with value: 2.2967308558629833.\n",
            "[I 2025-06-12 16:20:49,874] Trial 3 finished with value: 2.493756823559962 and parameters: {'max_depth': 3, 'learning_rate': 0.07348118405270448}. Best is trial 0 with value: 2.2967308558629833.\n",
            "[I 2025-06-12 16:21:08,626] Trial 4 finished with value: 2.3088838848776034 and parameters: {'max_depth': 6, 'learning_rate': 0.051059032093947576}. Best is trial 0 with value: 2.2967308558629833.\n",
            "[I 2025-06-12 16:21:12,318] Trial 5 finished with value: 2.45312877994282 and parameters: {'max_depth': 3, 'learning_rate': 0.09330606024425668}. Best is trial 0 with value: 2.2967308558629833.\n",
            "[I 2025-06-12 16:21:45,788] Trial 6 finished with value: 2.5515797913648424 and parameters: {'max_depth': 7, 'learning_rate': 0.016305687346221478}. Best is trial 0 with value: 2.2967308558629833.\n",
            "[I 2025-06-12 16:21:53,602] Trial 7 finished with value: 2.810539421705623 and parameters: {'max_depth': 4, 'learning_rate': 0.015254729458052608}. Best is trial 0 with value: 2.2967308558629833.\n",
            "[I 2025-06-12 16:22:00,255] Trial 8 finished with value: 2.550911703025835 and parameters: {'max_depth': 4, 'learning_rate': 0.03347776308515933}. Best is trial 0 with value: 2.2967308558629833.\n",
            "[I 2025-06-12 16:22:12,608] Trial 9 finished with value: 2.6241915294427614 and parameters: {'max_depth': 5, 'learning_rate': 0.019553708662745254}. Best is trial 0 with value: 2.2967308558629833.\n",
            "[I 2025-06-12 16:22:51,271] Trial 10 finished with value: 2.231287010840988 and parameters: {'max_depth': 8, 'learning_rate': 0.059072798297248076}. Best is trial 10 with value: 2.231287010840988.\n",
            "[I 2025-06-12 16:23:28,354] Trial 11 finished with value: 2.232066759359438 and parameters: {'max_depth': 8, 'learning_rate': 0.06180978503576278}. Best is trial 10 with value: 2.231287010840988.\n",
            "[I 2025-06-12 16:24:06,876] Trial 12 finished with value: 2.233526084206447 and parameters: {'max_depth': 8, 'learning_rate': 0.05613590300582354}. Best is trial 10 with value: 2.231287010840988.\n",
            "[I 2025-06-12 16:24:56,268] Trial 13 finished with value: 2.3749972963534742 and parameters: {'max_depth': 8, 'learning_rate': 0.02468612320147392}. Best is trial 10 with value: 2.231287010840988.\n",
            "[I 2025-06-12 16:25:30,729] Trial 14 finished with value: 2.73195396508173 and parameters: {'max_depth': 7, 'learning_rate': 0.01030805512679937}. Best is trial 10 with value: 2.231287010840988.\n",
            "[I 2025-06-12 16:26:08,508] Trial 15 finished with value: 2.235732600773378 and parameters: {'max_depth': 8, 'learning_rate': 0.05929892829889216}. Best is trial 10 with value: 2.231287010840988.\n",
            "[I 2025-06-12 16:26:27,488] Trial 16 finished with value: 2.3321854913268516 and parameters: {'max_depth': 6, 'learning_rate': 0.044554559284919165}. Best is trial 10 with value: 2.231287010840988.\n",
            "[I 2025-06-12 16:26:52,344] Trial 17 finished with value: 2.242694876563196 and parameters: {'max_depth': 7, 'learning_rate': 0.0708933854307741}. Best is trial 10 with value: 2.231287010840988.\n",
            "[I 2025-06-12 16:27:39,067] Trial 18 finished with value: 2.319649692795053 and parameters: {'max_depth': 8, 'learning_rate': 0.030436876577045344}. Best is trial 10 with value: 2.231287010840988.\n",
            "[I 2025-06-12 16:27:56,532] Trial 19 finished with value: 2.2763435583115457 and parameters: {'max_depth': 6, 'learning_rate': 0.06822728924097793}. Best is trial 10 with value: 2.231287010840988.\n",
            "[I 2025-06-12 16:28:38,433] Trial 20 finished with value: 2.264545360379895 and parameters: {'max_depth': 8, 'learning_rate': 0.04422999315487228}. Best is trial 10 with value: 2.231287010840988.\n",
            "[I 2025-06-12 16:29:17,643] Trial 21 finished with value: 2.2364415324053994 and parameters: {'max_depth': 8, 'learning_rate': 0.056122111310147174}. Best is trial 10 with value: 2.231287010840988.\n",
            "[I 2025-06-12 16:29:41,363] Trial 22 finished with value: 2.239002318998895 and parameters: {'max_depth': 7, 'learning_rate': 0.08080621545494258}. Best is trial 10 with value: 2.231287010840988.\n",
            "[I 2025-06-12 16:30:18,846] Trial 23 finished with value: 2.239279065918504 and parameters: {'max_depth': 8, 'learning_rate': 0.06082791153624898}. Best is trial 10 with value: 2.231287010840988.\n",
            "[I 2025-06-12 16:30:49,516] Trial 24 finished with value: 2.3304251342103015 and parameters: {'max_depth': 7, 'learning_rate': 0.03454710268168288}. Best is trial 10 with value: 2.231287010840988.\n",
            "[I 2025-06-12 16:31:30,920] Trial 25 finished with value: 2.250129750513513 and parameters: {'max_depth': 8, 'learning_rate': 0.04927681940686725}. Best is trial 10 with value: 2.231287010840988.\n",
            "[I 2025-06-12 16:31:53,805] Trial 26 finished with value: 2.222069277744268 and parameters: {'max_depth': 7, 'learning_rate': 0.09888622618744569}. Best is trial 26 with value: 2.222069277744268.\n",
            "[I 2025-06-12 16:32:16,397] Trial 27 finished with value: 2.2261317895362955 and parameters: {'max_depth': 7, 'learning_rate': 0.09980191410223592}. Best is trial 26 with value: 2.222069277744268.\n",
            "[I 2025-06-12 16:32:31,910] Trial 28 finished with value: 2.2531700131205707 and parameters: {'max_depth': 6, 'learning_rate': 0.09815545943170369}. Best is trial 26 with value: 2.222069277744268.\n",
            "[I 2025-06-12 16:32:58,049] Trial 29 finished with value: 2.228582054118786 and parameters: {'max_depth': 7, 'learning_rate': 0.08303886731826858}. Best is trial 26 with value: 2.222069277744268.\n",
            "[I 2025-06-12 16:33:08,806] Trial 30 finished with value: 2.3016940363436262 and parameters: {'max_depth': 5, 'learning_rate': 0.0862187377411175}. Best is trial 26 with value: 2.222069277744268.\n",
            "[I 2025-06-12 16:33:31,289] Trial 31 finished with value: 2.224185013036675 and parameters: {'max_depth': 7, 'learning_rate': 0.09920728687230349}. Best is trial 26 with value: 2.222069277744268.\n",
            "[I 2025-06-12 16:33:53,879] Trial 32 finished with value: 2.227209392891376 and parameters: {'max_depth': 7, 'learning_rate': 0.09888571395109098}. Best is trial 26 with value: 2.222069277744268.\n",
            "[I 2025-06-12 16:34:10,199] Trial 33 finished with value: 2.2517582828450995 and parameters: {'max_depth': 6, 'learning_rate': 0.09316866059282881}. Best is trial 26 with value: 2.222069277744268.\n",
            "[I 2025-06-12 16:34:34,792] Trial 34 finished with value: 2.2410759581515234 and parameters: {'max_depth': 7, 'learning_rate': 0.07383513425052247}. Best is trial 26 with value: 2.222069277744268.\n",
            "[I 2025-06-12 16:34:57,331] Trial 35 finished with value: 2.225158446833159 and parameters: {'max_depth': 7, 'learning_rate': 0.09730024936432402}. Best is trial 26 with value: 2.222069277744268.\n",
            "[I 2025-06-12 16:35:13,435] Trial 36 finished with value: 2.2679337553185555 and parameters: {'max_depth': 6, 'learning_rate': 0.0770143154584041}. Best is trial 26 with value: 2.222069277744268.\n",
            "[I 2025-06-12 16:35:29,959] Trial 37 finished with value: 2.2591621270645588 and parameters: {'max_depth': 6, 'learning_rate': 0.08667912245422173}. Best is trial 26 with value: 2.222069277744268.\n",
            "[I 2025-06-12 16:35:55,097] Trial 38 finished with value: 2.2407865099497597 and parameters: {'max_depth': 7, 'learning_rate': 0.06856031665656744}. Best is trial 26 with value: 2.222069277744268.\n",
            "[I 2025-06-12 16:36:17,932] Trial 39 finished with value: 2.2244503834305314 and parameters: {'max_depth': 7, 'learning_rate': 0.09744570935559642}. Best is trial 26 with value: 2.222069277744268.\n",
            "[I 2025-06-12 16:36:25,231] Trial 40 finished with value: 2.3738562980764812 and parameters: {'max_depth': 4, 'learning_rate': 0.08262782851863053}. Best is trial 26 with value: 2.222069277744268.\n",
            "[I 2025-06-12 16:36:47,551] Trial 41 finished with value: 2.232564711864667 and parameters: {'max_depth': 7, 'learning_rate': 0.09868646619534019}. Best is trial 26 with value: 2.222069277744268.\n",
            "[I 2025-06-12 16:37:10,631] Trial 42 finished with value: 2.2295626010092344 and parameters: {'max_depth': 7, 'learning_rate': 0.09045529017817285}. Best is trial 26 with value: 2.222069277744268.\n",
            "[I 2025-06-12 16:37:26,817] Trial 43 finished with value: 2.2666938194142423 and parameters: {'max_depth': 6, 'learning_rate': 0.07673015351621364}. Best is trial 26 with value: 2.222069277744268.\n",
            "[I 2025-06-12 16:37:37,996] Trial 44 finished with value: 2.3271620509412627 and parameters: {'max_depth': 5, 'learning_rate': 0.06709819112877555}. Best is trial 26 with value: 2.222069277744268.\n",
            "[I 2025-06-12 16:38:00,217] Trial 45 finished with value: 2.2270222691516652 and parameters: {'max_depth': 7, 'learning_rate': 0.0998150738395606}. Best is trial 26 with value: 2.222069277744268.\n",
            "[I 2025-06-12 16:38:23,825] Trial 46 finished with value: 2.234049804328067 and parameters: {'max_depth': 7, 'learning_rate': 0.08237812296296136}. Best is trial 26 with value: 2.222069277744268.\n",
            "[I 2025-06-12 16:38:46,712] Trial 47 finished with value: 2.228501651789675 and parameters: {'max_depth': 7, 'learning_rate': 0.08955130586856394}. Best is trial 26 with value: 2.222069277744268.\n",
            "[I 2025-06-12 16:39:07,098] Trial 48 finished with value: 2.5041496721495906 and parameters: {'max_depth': 6, 'learning_rate': 0.022341069897836487}. Best is trial 26 with value: 2.222069277744268.\n",
            "[I 2025-06-12 16:39:41,195] Trial 49 finished with value: 2.6598100138756604 and parameters: {'max_depth': 7, 'learning_rate': 0.012307619265611925}. Best is trial 26 with value: 2.222069277744268.\n",
            "[I 2025-06-12 16:39:57,919] Trial 50 finished with value: 2.2892110920916404 and parameters: {'max_depth': 6, 'learning_rate': 0.06434316202126801}. Best is trial 26 with value: 2.222069277744268.\n",
            "[I 2025-06-12 16:40:20,606] Trial 51 finished with value: 2.2311000582570486 and parameters: {'max_depth': 7, 'learning_rate': 0.09378443942147976}. Best is trial 26 with value: 2.222069277744268.\n",
            "[I 2025-06-12 16:40:43,013] Trial 52 finished with value: 2.229441282237849 and parameters: {'max_depth': 7, 'learning_rate': 0.09866459973672059}. Best is trial 26 with value: 2.222069277744268.\n",
            "[I 2025-06-12 16:41:08,189] Trial 53 finished with value: 2.2401761079698312 and parameters: {'max_depth': 7, 'learning_rate': 0.07415481806306934}. Best is trial 26 with value: 2.222069277744268.\n",
            "[I 2025-06-12 16:41:40,022] Trial 54 finished with value: 2.217478963347623 and parameters: {'max_depth': 8, 'learning_rate': 0.08676709016648546}. Best is trial 54 with value: 2.217478963347623.\n",
            "[I 2025-06-12 16:42:12,669] Trial 55 finished with value: 2.209307893333526 and parameters: {'max_depth': 8, 'learning_rate': 0.0882043612575461}. Best is trial 55 with value: 2.209307893333526.\n",
            "[I 2025-06-12 16:42:46,703] Trial 56 finished with value: 2.2127409491215566 and parameters: {'max_depth': 8, 'learning_rate': 0.07837046643558343}. Best is trial 55 with value: 2.209307893333526.\n",
            "[I 2025-06-12 16:43:26,969] Trial 57 finished with value: 2.245290602253282 and parameters: {'max_depth': 8, 'learning_rate': 0.05271218933912359}. Best is trial 55 with value: 2.209307893333526.\n",
            "[I 2025-06-12 16:44:01,001] Trial 58 finished with value: 2.2129323989090874 and parameters: {'max_depth': 8, 'learning_rate': 0.07882486482519871}. Best is trial 55 with value: 2.209307893333526.\n",
            "[I 2025-06-12 16:44:35,114] Trial 59 finished with value: 2.2203507770726683 and parameters: {'max_depth': 8, 'learning_rate': 0.07768935266454911}. Best is trial 55 with value: 2.209307893333526.\n",
            "[I 2025-06-12 16:45:11,870] Trial 60 finished with value: 2.225259484253585 and parameters: {'max_depth': 8, 'learning_rate': 0.06363067061919307}. Best is trial 55 with value: 2.209307893333526.\n",
            "[I 2025-06-12 16:45:46,076] Trial 61 finished with value: 2.2188934646160763 and parameters: {'max_depth': 8, 'learning_rate': 0.07854734718244047}. Best is trial 55 with value: 2.209307893333526.\n",
            "[I 2025-06-12 16:46:20,322] Trial 62 finished with value: 2.2196120330549993 and parameters: {'max_depth': 8, 'learning_rate': 0.07793110951957453}. Best is trial 55 with value: 2.209307893333526.\n",
            "[I 2025-06-12 16:46:55,500] Trial 63 finished with value: 2.2246260364312036 and parameters: {'max_depth': 8, 'learning_rate': 0.07127420760216455}. Best is trial 55 with value: 2.209307893333526.\n",
            "[I 2025-06-12 16:47:34,701] Trial 64 finished with value: 2.2379321910781855 and parameters: {'max_depth': 8, 'learning_rate': 0.056769439182467414}. Best is trial 55 with value: 2.209307893333526.\n",
            "[I 2025-06-12 16:48:08,621] Trial 65 finished with value: 2.21968182870219 and parameters: {'max_depth': 8, 'learning_rate': 0.07839353275286641}. Best is trial 55 with value: 2.209307893333526.\n",
            "[I 2025-06-12 16:48:44,953] Trial 66 finished with value: 2.225699486802566 and parameters: {'max_depth': 8, 'learning_rate': 0.0665651834458418}. Best is trial 55 with value: 2.209307893333526.\n",
            "[I 2025-06-12 16:49:26,319] Trial 67 finished with value: 2.248877889117497 and parameters: {'max_depth': 8, 'learning_rate': 0.05045908244724397}. Best is trial 55 with value: 2.209307893333526.\n",
            "[I 2025-06-12 16:50:11,539] Trial 68 finished with value: 2.285795861648162 and parameters: {'max_depth': 8, 'learning_rate': 0.037145437310324846}. Best is trial 55 with value: 2.209307893333526.\n",
            "[I 2025-06-12 16:50:53,201] Trial 69 finished with value: 2.257637688560179 and parameters: {'max_depth': 8, 'learning_rate': 0.045203694025164165}. Best is trial 55 with value: 2.209307893333526.\n",
            "[I 2025-06-12 16:51:41,389] Trial 70 finished with value: 2.3295723264339725 and parameters: {'max_depth': 8, 'learning_rate': 0.029148386967085348}. Best is trial 55 with value: 2.209307893333526.\n",
            "[I 2025-06-12 16:52:16,072] Trial 71 finished with value: 2.2236394775049897 and parameters: {'max_depth': 8, 'learning_rate': 0.07493064449213248}. Best is trial 55 with value: 2.209307893333526.\n",
            "[I 2025-06-12 16:52:49,986] Trial 72 finished with value: 2.2148993940010757 and parameters: {'max_depth': 8, 'learning_rate': 0.08038842873281951}. Best is trial 55 with value: 2.209307893333526.\n",
            "[I 2025-06-12 16:53:22,897] Trial 73 finished with value: 2.2125755583613813 and parameters: {'max_depth': 8, 'learning_rate': 0.0868876522193497}. Best is trial 55 with value: 2.209307893333526.\n",
            "[I 2025-06-12 16:53:54,813] Trial 74 finished with value: 2.213596956244812 and parameters: {'max_depth': 8, 'learning_rate': 0.08743604398074889}. Best is trial 55 with value: 2.209307893333526.\n",
            "[I 2025-06-12 16:54:27,655] Trial 75 finished with value: 2.2148450300000695 and parameters: {'max_depth': 8, 'learning_rate': 0.08575544300189858}. Best is trial 55 with value: 2.209307893333526.\n",
            "[I 2025-06-12 16:54:59,928] Trial 76 finished with value: 2.2147803903367773 and parameters: {'max_depth': 8, 'learning_rate': 0.08948816055543371}. Best is trial 55 with value: 2.209307893333526.\n",
            "[I 2025-06-12 16:55:32,675] Trial 77 finished with value: 2.214959435159788 and parameters: {'max_depth': 8, 'learning_rate': 0.08679628175788676}. Best is trial 55 with value: 2.209307893333526.\n",
            "[I 2025-06-12 16:56:07,728] Trial 78 finished with value: 2.224047585791387 and parameters: {'max_depth': 8, 'learning_rate': 0.07139736082570387}. Best is trial 55 with value: 2.209307893333526.\n",
            "[I 2025-06-12 16:56:40,918] Trial 79 finished with value: 2.2103354354607383 and parameters: {'max_depth': 8, 'learning_rate': 0.08303782183290603}. Best is trial 55 with value: 2.209307893333526.\n",
            "[I 2025-06-12 16:57:13,268] Trial 80 finished with value: 2.2144492872124846 and parameters: {'max_depth': 8, 'learning_rate': 0.09121294624935795}. Best is trial 55 with value: 2.209307893333526.\n",
            "[I 2025-06-12 16:57:17,085] Trial 81 finished with value: 2.458055297398986 and parameters: {'max_depth': 3, 'learning_rate': 0.09184547666806035}. Best is trial 55 with value: 2.209307893333526.\n",
            "[I 2025-06-12 16:57:50,187] Trial 82 finished with value: 2.2112268650857985 and parameters: {'max_depth': 8, 'learning_rate': 0.0851905422094441}. Best is trial 55 with value: 2.209307893333526.\n",
            "[I 2025-06-12 16:58:22,452] Trial 83 finished with value: 2.2100300703377878 and parameters: {'max_depth': 8, 'learning_rate': 0.09152964713680231}. Best is trial 55 with value: 2.209307893333526.\n",
            "[I 2025-06-12 16:58:55,640] Trial 84 finished with value: 2.2168049917664283 and parameters: {'max_depth': 8, 'learning_rate': 0.0836149513734317}. Best is trial 55 with value: 2.209307893333526.\n",
            "[I 2025-06-12 16:59:31,340] Trial 85 finished with value: 2.2294824328552485 and parameters: {'max_depth': 8, 'learning_rate': 0.06902295247029881}. Best is trial 55 with value: 2.209307893333526.\n",
            "[I 2025-06-12 17:00:03,328] Trial 86 finished with value: 2.2155442012459488 and parameters: {'max_depth': 8, 'learning_rate': 0.09303355102261214}. Best is trial 55 with value: 2.209307893333526.\n",
            "[I 2025-06-12 17:00:36,503] Trial 87 finished with value: 2.2158556754446876 and parameters: {'max_depth': 8, 'learning_rate': 0.08232005549624256}. Best is trial 55 with value: 2.209307893333526.\n",
            "[I 2025-06-12 17:01:13,980] Trial 88 finished with value: 2.235483560370289 and parameters: {'max_depth': 8, 'learning_rate': 0.05899787767522387}. Best is trial 55 with value: 2.209307893333526.\n",
            "[I 2025-06-12 17:01:48,882] Trial 89 finished with value: 2.21781677356996 and parameters: {'max_depth': 8, 'learning_rate': 0.073274323113483}. Best is trial 55 with value: 2.209307893333526.\n",
            "[I 2025-06-12 17:02:21,176] Trial 90 finished with value: 2.2111196789373304 and parameters: {'max_depth': 8, 'learning_rate': 0.08902286055247796}. Best is trial 55 with value: 2.209307893333526.\n",
            "[I 2025-06-12 17:02:53,207] Trial 91 finished with value: 2.214890743065618 and parameters: {'max_depth': 8, 'learning_rate': 0.09301713887694679}. Best is trial 55 with value: 2.209307893333526.\n",
            "[I 2025-06-12 17:03:44,965] Trial 92 finished with value: 2.4915577215384572 and parameters: {'max_depth': 8, 'learning_rate': 0.016919070219386937}. Best is trial 55 with value: 2.209307893333526.\n",
            "[I 2025-06-12 17:04:16,663] Trial 93 finished with value: 2.210772934311091 and parameters: {'max_depth': 8, 'learning_rate': 0.08958565941294595}. Best is trial 55 with value: 2.209307893333526.\n",
            "[I 2025-06-12 17:04:49,556] Trial 94 finished with value: 2.214522506289936 and parameters: {'max_depth': 8, 'learning_rate': 0.08391845706518591}. Best is trial 55 with value: 2.209307893333526.\n",
            "[I 2025-06-12 17:05:22,341] Trial 95 finished with value: 2.2120176434910994 and parameters: {'max_depth': 8, 'learning_rate': 0.08773822933653641}. Best is trial 55 with value: 2.209307893333526.\n",
            "[I 2025-06-12 17:05:56,202] Trial 96 finished with value: 2.2203834205969786 and parameters: {'max_depth': 8, 'learning_rate': 0.080072094690672}. Best is trial 55 with value: 2.209307893333526.\n",
            "[I 2025-06-12 17:06:28,052] Trial 97 finished with value: 2.211402018188614 and parameters: {'max_depth': 8, 'learning_rate': 0.09440765448470825}. Best is trial 55 with value: 2.209307893333526.\n",
            "[I 2025-06-12 17:06:59,678] Trial 98 finished with value: 2.2135812606647987 and parameters: {'max_depth': 8, 'learning_rate': 0.09476436144728588}. Best is trial 55 with value: 2.209307893333526.\n",
            "[I 2025-06-12 17:07:32,226] Trial 99 finished with value: 2.2101939291627013 and parameters: {'max_depth': 8, 'learning_rate': 0.08886574323099211}. Best is trial 55 with value: 2.209307893333526.\n",
            "[5-TPE] TPE done in 2850.8s\n",
            "[5-TPE] Best params: {'max_depth': 8, 'learning_rate': 0.0882043612575461}\n",
            "\n",
            "[6-TPE] Overall performance:\n",
            "TRAIN → MSE=0.010751, RMSE=0.103689, MAE=0.021808, R²=0.294\n",
            "VAL   → MSE=0.012385, RMSE=0.111287, MAE=0.023436, R²=0.073\n",
            "TEST  → MSE=0.008078, RMSE=0.089878, MAE=0.015372, R²=0.024\n",
            "       Mean(actual−pred) = 0.012801\n",
            "\n"
          ]
        }
      ],
      "source": [
        "# ========== TPE Hyperparameter Optimization ==========\n",
        "import optuna\n",
        "from optuna.samplers import TPESampler\n",
        "\n",
        "print(\"\\n[5-TPE] Starting TPE optimization...\")\n",
        "\n",
        "y_tr = y_tr.reset_index(drop=True)\n",
        "\n",
        "def objective(trial):\n",
        "    params = {\n",
        "        \"max_depth\":        trial.suggest_int(\"max_depth\", 3, 8),\n",
        "        \"learning_rate\":    trial.suggest_float(\"learning_rate\", 1e-2, 1e-1, log=True),\n",
        "    }\n",
        "\n",
        "    model = XGBRegressor(**params)\n",
        "    scores = []\n",
        "    from sklearn.model_selection import KFold\n",
        "\n",
        "    cv = KFold(n_splits=5, shuffle=True, random_state=SEED)\n",
        "    for train_idx, valid_idx in cv.split(X_tr_s):\n",
        "        model.fit(X_tr_s[train_idx], y_tr[train_idx])\n",
        "        preds = model.predict(X_tr_s[valid_idx])\n",
        "        score = mean_squared_error(y_tr[valid_idx], preds)\n",
        "        scores.append(score)\n",
        "    return np.mean(scores)\n",
        "\n",
        "tpe_start = time.perf_counter()\n",
        "\n",
        "study = optuna.create_study(\n",
        "    direction=\"minimize\",\n",
        "    sampler=TPESampler(seed=SEED),\n",
        "    study_name=\"xgb_tpe_study\"\n",
        ")\n",
        "\n",
        "study.optimize(objective, timeout=TIMEOUT, n_trials=100, show_progress_bar=True)\n",
        "\n",
        "tpe_end = time.perf_counter()\n",
        "print(f\"[5-TPE] TPE done in {tpe_end - tpe_start:.1f}s\")\n",
        "print(f\"[5-TPE] Best params: {study.best_params}\")\n",
        "\n",
        "# Save model\n",
        "tpe_model = XGBRegressor(**study.best_params)\n",
        "tpe_model.fit(X_tr_s, y_tr)\n",
        "joblib.dump(tpe_model, \"xgb_tpe_model.joblib\")\n",
        "\n",
        "# Replace this with whatever filename you want to write to\n",
        "with open(\"results_tpe.txt\", \"w\") as out:\n",
        "    def report(name, Xs, ys, df_=None):\n",
        "        y_log = tpe_model.predict(Xs)\n",
        "        y_pred= expit(y_log)\n",
        "        y_true= expit(ys)\n",
        "        mse   = mean_squared_error(y_true, y_pred)\n",
        "        rmse  = np.sqrt(mse)\n",
        "        mae   = mean_absolute_error(y_true, y_pred)\n",
        "        r2    = r2_score(y_true, y_pred)\n",
        "        out.write(f\"{name:5s} → MSE={mse:.6f}, RMSE={rmse:.6f}, \"\n",
        "                  f\"MAE={mae:.6f}, R²={r2:.3f}\\n\")\n",
        "        print(f\"{name:5s} → MSE={mse:.6f}, RMSE={rmse:.6f}, \"\n",
        "              f\"MAE={mae:.6f}, R²={r2:.3f}\")\n",
        "        if df_ is not None:\n",
        "            df_ = df_.copy()\n",
        "            df_[\"pred\"] = y_pred\n",
        "            df_[\"actual\"] = y_true\n",
        "            mean_diff = np.mean(df_[\"actual\"] - df_[\"pred\"])\n",
        "            out.write(f\"       Mean(actual−pred) = {mean_diff:.6f}\\n\")\n",
        "            print(f\"       Mean(actual−pred) = {mean_diff:.6f}\\n\")\n",
        "\n",
        "    out.write(\"—— Overall performance (TPE) ——\\n\")\n",
        "    print(\"\\n[6-TPE] Overall performance:\")\n",
        "    report(\"TRAIN\", X_tr_s, y_tr)\n",
        "    report(\"VAL\",   X_val_s, y_val)\n",
        "    report(\"TEST\",  X_te_s, y_te,   df_test)\n"
      ]
    }
  ],
  "metadata": {
    "colab": {
      "provenance": []
    },
    "kernelspec": {
      "display_name": "Python 3",
      "name": "python3"
    },
    "language_info": {
      "name": "python"
    },
    "widgets": {
      "application/vnd.jupyter.widget-state+json": {
        "2e5b6d58346f4453a0ba4cb5d95a1159": {
          "model_module": "@jupyter-widgets/controls",
          "model_name": "HBoxModel",
          "model_module_version": "1.5.0",
          "state": {
            "_dom_classes": [],
            "_model_module": "@jupyter-widgets/controls",
            "_model_module_version": "1.5.0",
            "_model_name": "HBoxModel",
            "_view_count": null,
            "_view_module": "@jupyter-widgets/controls",
            "_view_module_version": "1.5.0",
            "_view_name": "HBoxView",
            "box_style": "",
            "children": [
              "IPY_MODEL_e5a7a9a7a76a4678ba6e8e9d3881e548",
              "IPY_MODEL_4a17854166ef4de7bd6929a05022fb00",
              "IPY_MODEL_cbb9708c07c74326921f05dd8d05fcf5"
            ],
            "layout": "IPY_MODEL_9d7e77dec09c49e3a13930d63671c588"
          }
        },
        "e5a7a9a7a76a4678ba6e8e9d3881e548": {
          "model_module": "@jupyter-widgets/controls",
          "model_name": "HTMLModel",
          "model_module_version": "1.5.0",
          "state": {
            "_dom_classes": [],
            "_model_module": "@jupyter-widgets/controls",
            "_model_module_version": "1.5.0",
            "_model_name": "HTMLModel",
            "_view_count": null,
            "_view_module": "@jupyter-widgets/controls",
            "_view_module_version": "1.5.0",
            "_view_name": "HTMLView",
            "description": "",
            "description_tooltip": null,
            "layout": "IPY_MODEL_facc5aa4d22941b1901702d47d1849d3",
            "placeholder": "​",
            "style": "IPY_MODEL_988a58d1fd3a4b4da94dd7fc6bef24de",
            "value": "Best trial: 55. Best value: 2.20931:  99%"
          }
        },
        "4a17854166ef4de7bd6929a05022fb00": {
          "model_module": "@jupyter-widgets/controls",
          "model_name": "FloatProgressModel",
          "model_module_version": "1.5.0",
          "state": {
            "_dom_classes": [],
            "_model_module": "@jupyter-widgets/controls",
            "_model_module_version": "1.5.0",
            "_model_name": "FloatProgressModel",
            "_view_count": null,
            "_view_module": "@jupyter-widgets/controls",
            "_view_module_version": "1.5.0",
            "_view_name": "ProgressView",
            "bar_style": "",
            "description": "",
            "description_tooltip": null,
            "layout": "IPY_MODEL_ba2910d6f8af4a1d9467c971e0418395",
            "max": 100,
            "min": 0,
            "orientation": "horizontal",
            "style": "IPY_MODEL_5d66fd1079e8469aaef7a5e931a0e996",
            "value": 99
          }
        },
        "cbb9708c07c74326921f05dd8d05fcf5": {
          "model_module": "@jupyter-widgets/controls",
          "model_name": "HTMLModel",
          "model_module_version": "1.5.0",
          "state": {
            "_dom_classes": [],
            "_model_module": "@jupyter-widgets/controls",
            "_model_module_version": "1.5.0",
            "_model_name": "HTMLModel",
            "_view_count": null,
            "_view_module": "@jupyter-widgets/controls",
            "_view_module_version": "1.5.0",
            "_view_name": "HTMLView",
            "description": "",
            "description_tooltip": null,
            "layout": "IPY_MODEL_36e9230182014e3ab0d1dbf7970b1d71",
            "placeholder": "​",
            "style": "IPY_MODEL_48d1d3e06df846bdbe8d7eeabd81f7b3",
            "value": " 99/100 [46:58&lt;00:33, 33.05s/it, 2818.23/3600 seconds]"
          }
        },
        "9d7e77dec09c49e3a13930d63671c588": {
          "model_module": "@jupyter-widgets/base",
          "model_name": "LayoutModel",
          "model_module_version": "1.2.0",
          "state": {
            "_model_module": "@jupyter-widgets/base",
            "_model_module_version": "1.2.0",
            "_model_name": "LayoutModel",
            "_view_count": null,
            "_view_module": "@jupyter-widgets/base",
            "_view_module_version": "1.2.0",
            "_view_name": "LayoutView",
            "align_content": null,
            "align_items": null,
            "align_self": null,
            "border": null,
            "bottom": null,
            "display": null,
            "flex": null,
            "flex_flow": null,
            "grid_area": null,
            "grid_auto_columns": null,
            "grid_auto_flow": null,
            "grid_auto_rows": null,
            "grid_column": null,
            "grid_gap": null,
            "grid_row": null,
            "grid_template_areas": null,
            "grid_template_columns": null,
            "grid_template_rows": null,
            "height": null,
            "justify_content": null,
            "justify_items": null,
            "left": null,
            "margin": null,
            "max_height": null,
            "max_width": null,
            "min_height": null,
            "min_width": null,
            "object_fit": null,
            "object_position": null,
            "order": null,
            "overflow": null,
            "overflow_x": null,
            "overflow_y": null,
            "padding": null,
            "right": null,
            "top": null,
            "visibility": null,
            "width": null
          }
        },
        "facc5aa4d22941b1901702d47d1849d3": {
          "model_module": "@jupyter-widgets/base",
          "model_name": "LayoutModel",
          "model_module_version": "1.2.0",
          "state": {
            "_model_module": "@jupyter-widgets/base",
            "_model_module_version": "1.2.0",
            "_model_name": "LayoutModel",
            "_view_count": null,
            "_view_module": "@jupyter-widgets/base",
            "_view_module_version": "1.2.0",
            "_view_name": "LayoutView",
            "align_content": null,
            "align_items": null,
            "align_self": null,
            "border": null,
            "bottom": null,
            "display": null,
            "flex": null,
            "flex_flow": null,
            "grid_area": null,
            "grid_auto_columns": null,
            "grid_auto_flow": null,
            "grid_auto_rows": null,
            "grid_column": null,
            "grid_gap": null,
            "grid_row": null,
            "grid_template_areas": null,
            "grid_template_columns": null,
            "grid_template_rows": null,
            "height": null,
            "justify_content": null,
            "justify_items": null,
            "left": null,
            "margin": null,
            "max_height": null,
            "max_width": null,
            "min_height": null,
            "min_width": null,
            "object_fit": null,
            "object_position": null,
            "order": null,
            "overflow": null,
            "overflow_x": null,
            "overflow_y": null,
            "padding": null,
            "right": null,
            "top": null,
            "visibility": null,
            "width": null
          }
        },
        "988a58d1fd3a4b4da94dd7fc6bef24de": {
          "model_module": "@jupyter-widgets/controls",
          "model_name": "DescriptionStyleModel",
          "model_module_version": "1.5.0",
          "state": {
            "_model_module": "@jupyter-widgets/controls",
            "_model_module_version": "1.5.0",
            "_model_name": "DescriptionStyleModel",
            "_view_count": null,
            "_view_module": "@jupyter-widgets/base",
            "_view_module_version": "1.2.0",
            "_view_name": "StyleView",
            "description_width": ""
          }
        },
        "ba2910d6f8af4a1d9467c971e0418395": {
          "model_module": "@jupyter-widgets/base",
          "model_name": "LayoutModel",
          "model_module_version": "1.2.0",
          "state": {
            "_model_module": "@jupyter-widgets/base",
            "_model_module_version": "1.2.0",
            "_model_name": "LayoutModel",
            "_view_count": null,
            "_view_module": "@jupyter-widgets/base",
            "_view_module_version": "1.2.0",
            "_view_name": "LayoutView",
            "align_content": null,
            "align_items": null,
            "align_self": null,
            "border": null,
            "bottom": null,
            "display": null,
            "flex": null,
            "flex_flow": null,
            "grid_area": null,
            "grid_auto_columns": null,
            "grid_auto_flow": null,
            "grid_auto_rows": null,
            "grid_column": null,
            "grid_gap": null,
            "grid_row": null,
            "grid_template_areas": null,
            "grid_template_columns": null,
            "grid_template_rows": null,
            "height": null,
            "justify_content": null,
            "justify_items": null,
            "left": null,
            "margin": null,
            "max_height": null,
            "max_width": null,
            "min_height": null,
            "min_width": null,
            "object_fit": null,
            "object_position": null,
            "order": null,
            "overflow": null,
            "overflow_x": null,
            "overflow_y": null,
            "padding": null,
            "right": null,
            "top": null,
            "visibility": null,
            "width": null
          }
        },
        "5d66fd1079e8469aaef7a5e931a0e996": {
          "model_module": "@jupyter-widgets/controls",
          "model_name": "ProgressStyleModel",
          "model_module_version": "1.5.0",
          "state": {
            "_model_module": "@jupyter-widgets/controls",
            "_model_module_version": "1.5.0",
            "_model_name": "ProgressStyleModel",
            "_view_count": null,
            "_view_module": "@jupyter-widgets/base",
            "_view_module_version": "1.2.0",
            "_view_name": "StyleView",
            "bar_color": null,
            "description_width": ""
          }
        },
        "36e9230182014e3ab0d1dbf7970b1d71": {
          "model_module": "@jupyter-widgets/base",
          "model_name": "LayoutModel",
          "model_module_version": "1.2.0",
          "state": {
            "_model_module": "@jupyter-widgets/base",
            "_model_module_version": "1.2.0",
            "_model_name": "LayoutModel",
            "_view_count": null,
            "_view_module": "@jupyter-widgets/base",
            "_view_module_version": "1.2.0",
            "_view_name": "LayoutView",
            "align_content": null,
            "align_items": null,
            "align_self": null,
            "border": null,
            "bottom": null,
            "display": null,
            "flex": null,
            "flex_flow": null,
            "grid_area": null,
            "grid_auto_columns": null,
            "grid_auto_flow": null,
            "grid_auto_rows": null,
            "grid_column": null,
            "grid_gap": null,
            "grid_row": null,
            "grid_template_areas": null,
            "grid_template_columns": null,
            "grid_template_rows": null,
            "height": null,
            "justify_content": null,
            "justify_items": null,
            "left": null,
            "margin": null,
            "max_height": null,
            "max_width": null,
            "min_height": null,
            "min_width": null,
            "object_fit": null,
            "object_position": null,
            "order": null,
            "overflow": null,
            "overflow_x": null,
            "overflow_y": null,
            "padding": null,
            "right": null,
            "top": null,
            "visibility": null,
            "width": null
          }
        },
        "48d1d3e06df846bdbe8d7eeabd81f7b3": {
          "model_module": "@jupyter-widgets/controls",
          "model_name": "DescriptionStyleModel",
          "model_module_version": "1.5.0",
          "state": {
            "_model_module": "@jupyter-widgets/controls",
            "_model_module_version": "1.5.0",
            "_model_name": "DescriptionStyleModel",
            "_view_count": null,
            "_view_module": "@jupyter-widgets/base",
            "_view_module_version": "1.2.0",
            "_view_name": "StyleView",
            "description_width": ""
          }
        }
      }
    }
  },
  "nbformat": 4,
  "nbformat_minor": 0
}